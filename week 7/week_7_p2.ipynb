{
  "nbformat": 4,
  "nbformat_minor": 0,
  "metadata": {
    "colab": {
      "name": "week-7 p2.ipynb",
      "provenance": []
    },
    "kernelspec": {
      "name": "python3",
      "display_name": "Python 3"
    },
    "language_info": {
      "name": "python"
    }
  },
  "cells": [
    {
      "cell_type": "code",
      "execution_count": 217,
      "metadata": {
        "id": "fIiKyCURKv2Y"
      },
      "outputs": [],
      "source": [
        "import pandas as pd\n",
        "import numpy as np\n",
        "import matplotlib.pyplot as plt\n",
        "import seaborn as sns"
      ]
    },
    {
      "cell_type": "code",
      "source": [
        "df = pd.read_csv(\"GOOG_train.csv\")"
      ],
      "metadata": {
        "id": "zUMBHJPNLR7v"
      },
      "execution_count": 218,
      "outputs": []
    },
    {
      "cell_type": "code",
      "source": [
        "df.head()"
      ],
      "metadata": {
        "colab": {
          "base_uri": "https://localhost:8080/",
          "height": 206
        },
        "id": "WWVndgYYLR5u",
        "outputId": "8c011bfa-b9ef-41c9-83b3-50e9771a2ee7"
      },
      "execution_count": 220,
      "outputs": [
        {
          "output_type": "execute_result",
          "data": {
            "text/plain": [
              "         Date        Open        High         Low       Close   Adj Close  \\\n",
              "0  2016-06-10  719.469971  725.890015  716.429993  719.409973  719.409973   \n",
              "1  2016-06-13  716.510010  725.440002  716.510010  718.359985  718.359985   \n",
              "2  2016-06-14  716.479980  722.469971  713.119995  718.270020  718.270020   \n",
              "3  2016-06-15  719.000000  722.979980  717.309998  718.919983  718.919983   \n",
              "4  2016-06-16  714.909973  716.650024  703.260010  710.359985  710.359985   \n",
              "\n",
              "    Volume  \n",
              "0  1216400  \n",
              "1  1258900  \n",
              "2  1306100  \n",
              "3  1214500  \n",
              "4  1982500  "
            ],
            "text/html": [
              "\n",
              "  <div id=\"df-5c4f1303-454e-43ca-9658-803a92e209da\">\n",
              "    <div class=\"colab-df-container\">\n",
              "      <div>\n",
              "<style scoped>\n",
              "    .dataframe tbody tr th:only-of-type {\n",
              "        vertical-align: middle;\n",
              "    }\n",
              "\n",
              "    .dataframe tbody tr th {\n",
              "        vertical-align: top;\n",
              "    }\n",
              "\n",
              "    .dataframe thead th {\n",
              "        text-align: right;\n",
              "    }\n",
              "</style>\n",
              "<table border=\"1\" class=\"dataframe\">\n",
              "  <thead>\n",
              "    <tr style=\"text-align: right;\">\n",
              "      <th></th>\n",
              "      <th>Date</th>\n",
              "      <th>Open</th>\n",
              "      <th>High</th>\n",
              "      <th>Low</th>\n",
              "      <th>Close</th>\n",
              "      <th>Adj Close</th>\n",
              "      <th>Volume</th>\n",
              "    </tr>\n",
              "  </thead>\n",
              "  <tbody>\n",
              "    <tr>\n",
              "      <th>0</th>\n",
              "      <td>2016-06-10</td>\n",
              "      <td>719.469971</td>\n",
              "      <td>725.890015</td>\n",
              "      <td>716.429993</td>\n",
              "      <td>719.409973</td>\n",
              "      <td>719.409973</td>\n",
              "      <td>1216400</td>\n",
              "    </tr>\n",
              "    <tr>\n",
              "      <th>1</th>\n",
              "      <td>2016-06-13</td>\n",
              "      <td>716.510010</td>\n",
              "      <td>725.440002</td>\n",
              "      <td>716.510010</td>\n",
              "      <td>718.359985</td>\n",
              "      <td>718.359985</td>\n",
              "      <td>1258900</td>\n",
              "    </tr>\n",
              "    <tr>\n",
              "      <th>2</th>\n",
              "      <td>2016-06-14</td>\n",
              "      <td>716.479980</td>\n",
              "      <td>722.469971</td>\n",
              "      <td>713.119995</td>\n",
              "      <td>718.270020</td>\n",
              "      <td>718.270020</td>\n",
              "      <td>1306100</td>\n",
              "    </tr>\n",
              "    <tr>\n",
              "      <th>3</th>\n",
              "      <td>2016-06-15</td>\n",
              "      <td>719.000000</td>\n",
              "      <td>722.979980</td>\n",
              "      <td>717.309998</td>\n",
              "      <td>718.919983</td>\n",
              "      <td>718.919983</td>\n",
              "      <td>1214500</td>\n",
              "    </tr>\n",
              "    <tr>\n",
              "      <th>4</th>\n",
              "      <td>2016-06-16</td>\n",
              "      <td>714.909973</td>\n",
              "      <td>716.650024</td>\n",
              "      <td>703.260010</td>\n",
              "      <td>710.359985</td>\n",
              "      <td>710.359985</td>\n",
              "      <td>1982500</td>\n",
              "    </tr>\n",
              "  </tbody>\n",
              "</table>\n",
              "</div>\n",
              "      <button class=\"colab-df-convert\" onclick=\"convertToInteractive('df-5c4f1303-454e-43ca-9658-803a92e209da')\"\n",
              "              title=\"Convert this dataframe to an interactive table.\"\n",
              "              style=\"display:none;\">\n",
              "        \n",
              "  <svg xmlns=\"http://www.w3.org/2000/svg\" height=\"24px\"viewBox=\"0 0 24 24\"\n",
              "       width=\"24px\">\n",
              "    <path d=\"M0 0h24v24H0V0z\" fill=\"none\"/>\n",
              "    <path d=\"M18.56 5.44l.94 2.06.94-2.06 2.06-.94-2.06-.94-.94-2.06-.94 2.06-2.06.94zm-11 1L8.5 8.5l.94-2.06 2.06-.94-2.06-.94L8.5 2.5l-.94 2.06-2.06.94zm10 10l.94 2.06.94-2.06 2.06-.94-2.06-.94-.94-2.06-.94 2.06-2.06.94z\"/><path d=\"M17.41 7.96l-1.37-1.37c-.4-.4-.92-.59-1.43-.59-.52 0-1.04.2-1.43.59L10.3 9.45l-7.72 7.72c-.78.78-.78 2.05 0 2.83L4 21.41c.39.39.9.59 1.41.59.51 0 1.02-.2 1.41-.59l7.78-7.78 2.81-2.81c.8-.78.8-2.07 0-2.86zM5.41 20L4 18.59l7.72-7.72 1.47 1.35L5.41 20z\"/>\n",
              "  </svg>\n",
              "      </button>\n",
              "      \n",
              "  <style>\n",
              "    .colab-df-container {\n",
              "      display:flex;\n",
              "      flex-wrap:wrap;\n",
              "      gap: 12px;\n",
              "    }\n",
              "\n",
              "    .colab-df-convert {\n",
              "      background-color: #E8F0FE;\n",
              "      border: none;\n",
              "      border-radius: 50%;\n",
              "      cursor: pointer;\n",
              "      display: none;\n",
              "      fill: #1967D2;\n",
              "      height: 32px;\n",
              "      padding: 0 0 0 0;\n",
              "      width: 32px;\n",
              "    }\n",
              "\n",
              "    .colab-df-convert:hover {\n",
              "      background-color: #E2EBFA;\n",
              "      box-shadow: 0px 1px 2px rgba(60, 64, 67, 0.3), 0px 1px 3px 1px rgba(60, 64, 67, 0.15);\n",
              "      fill: #174EA6;\n",
              "    }\n",
              "\n",
              "    [theme=dark] .colab-df-convert {\n",
              "      background-color: #3B4455;\n",
              "      fill: #D2E3FC;\n",
              "    }\n",
              "\n",
              "    [theme=dark] .colab-df-convert:hover {\n",
              "      background-color: #434B5C;\n",
              "      box-shadow: 0px 1px 3px 1px rgba(0, 0, 0, 0.15);\n",
              "      filter: drop-shadow(0px 1px 2px rgba(0, 0, 0, 0.3));\n",
              "      fill: #FFFFFF;\n",
              "    }\n",
              "  </style>\n",
              "\n",
              "      <script>\n",
              "        const buttonEl =\n",
              "          document.querySelector('#df-5c4f1303-454e-43ca-9658-803a92e209da button.colab-df-convert');\n",
              "        buttonEl.style.display =\n",
              "          google.colab.kernel.accessAllowed ? 'block' : 'none';\n",
              "\n",
              "        async function convertToInteractive(key) {\n",
              "          const element = document.querySelector('#df-5c4f1303-454e-43ca-9658-803a92e209da');\n",
              "          const dataTable =\n",
              "            await google.colab.kernel.invokeFunction('convertToInteractive',\n",
              "                                                     [key], {});\n",
              "          if (!dataTable) return;\n",
              "\n",
              "          const docLinkHtml = 'Like what you see? Visit the ' +\n",
              "            '<a target=\"_blank\" href=https://colab.research.google.com/notebooks/data_table.ipynb>data table notebook</a>'\n",
              "            + ' to learn more about interactive tables.';\n",
              "          element.innerHTML = '';\n",
              "          dataTable['output_type'] = 'display_data';\n",
              "          await google.colab.output.renderOutput(dataTable, element);\n",
              "          const docLink = document.createElement('div');\n",
              "          docLink.innerHTML = docLinkHtml;\n",
              "          element.appendChild(docLink);\n",
              "        }\n",
              "      </script>\n",
              "    </div>\n",
              "  </div>\n",
              "  "
            ]
          },
          "metadata": {},
          "execution_count": 220
        }
      ]
    },
    {
      "cell_type": "code",
      "source": [
        "df.info()"
      ],
      "metadata": {
        "colab": {
          "base_uri": "https://localhost:8080/"
        },
        "id": "m3ii8pUjLR4H",
        "outputId": "5904aff7-5f11-4c2e-b570-71d3d0dfccc2"
      },
      "execution_count": 221,
      "outputs": [
        {
          "output_type": "stream",
          "name": "stdout",
          "text": [
            "<class 'pandas.core.frame.DataFrame'>\n",
            "RangeIndex: 1258 entries, 0 to 1257\n",
            "Data columns (total 7 columns):\n",
            " #   Column     Non-Null Count  Dtype  \n",
            "---  ------     --------------  -----  \n",
            " 0   Date       1258 non-null   object \n",
            " 1   Open       1258 non-null   float64\n",
            " 2   High       1258 non-null   float64\n",
            " 3   Low        1258 non-null   float64\n",
            " 4   Close      1258 non-null   float64\n",
            " 5   Adj Close  1258 non-null   float64\n",
            " 6   Volume     1258 non-null   int64  \n",
            "dtypes: float64(5), int64(1), object(1)\n",
            "memory usage: 68.9+ KB\n"
          ]
        }
      ]
    },
    {
      "cell_type": "code",
      "source": [
        "df.describe()"
      ],
      "metadata": {
        "colab": {
          "base_uri": "https://localhost:8080/",
          "height": 300
        },
        "id": "OU3m4JZ3LR1_",
        "outputId": "b9855ff3-ec2f-4042-b29f-e25a2231f97f"
      },
      "execution_count": 222,
      "outputs": [
        {
          "output_type": "execute_result",
          "data": {
            "text/plain": [
              "              Open         High          Low        Close    Adj Close  \\\n",
              "count  1258.000000  1258.000000  1258.000000  1258.000000  1258.000000   \n",
              "mean   1212.412150  1224.570048  1201.347431  1213.457483  1213.457483   \n",
              "std     379.454923   384.609149   375.747847   380.308660   380.308660   \n",
              "min     671.000000   672.299988   663.283997   668.260010   668.260010   \n",
              "25%     957.377518   963.404984   950.767502   958.119980   958.119980   \n",
              "50%    1130.574951  1142.984985  1117.374024  1132.005005  1132.005005   \n",
              "75%    1357.785034  1372.300995  1346.885010  1358.957519  1358.957519   \n",
              "max    2499.500000  2505.000000  2487.330078  2491.399902  2491.399902   \n",
              "\n",
              "             Volume  \n",
              "count  1.258000e+03  \n",
              "mean   1.610740e+06  \n",
              "std    7.031610e+05  \n",
              "min    3.468000e+05  \n",
              "25%    1.184300e+06  \n",
              "50%    1.423200e+06  \n",
              "75%    1.823950e+06  \n",
              "max    6.207000e+06  "
            ],
            "text/html": [
              "\n",
              "  <div id=\"df-8de2cbc5-13fe-4156-840e-08f891ba5390\">\n",
              "    <div class=\"colab-df-container\">\n",
              "      <div>\n",
              "<style scoped>\n",
              "    .dataframe tbody tr th:only-of-type {\n",
              "        vertical-align: middle;\n",
              "    }\n",
              "\n",
              "    .dataframe tbody tr th {\n",
              "        vertical-align: top;\n",
              "    }\n",
              "\n",
              "    .dataframe thead th {\n",
              "        text-align: right;\n",
              "    }\n",
              "</style>\n",
              "<table border=\"1\" class=\"dataframe\">\n",
              "  <thead>\n",
              "    <tr style=\"text-align: right;\">\n",
              "      <th></th>\n",
              "      <th>Open</th>\n",
              "      <th>High</th>\n",
              "      <th>Low</th>\n",
              "      <th>Close</th>\n",
              "      <th>Adj Close</th>\n",
              "      <th>Volume</th>\n",
              "    </tr>\n",
              "  </thead>\n",
              "  <tbody>\n",
              "    <tr>\n",
              "      <th>count</th>\n",
              "      <td>1258.000000</td>\n",
              "      <td>1258.000000</td>\n",
              "      <td>1258.000000</td>\n",
              "      <td>1258.000000</td>\n",
              "      <td>1258.000000</td>\n",
              "      <td>1.258000e+03</td>\n",
              "    </tr>\n",
              "    <tr>\n",
              "      <th>mean</th>\n",
              "      <td>1212.412150</td>\n",
              "      <td>1224.570048</td>\n",
              "      <td>1201.347431</td>\n",
              "      <td>1213.457483</td>\n",
              "      <td>1213.457483</td>\n",
              "      <td>1.610740e+06</td>\n",
              "    </tr>\n",
              "    <tr>\n",
              "      <th>std</th>\n",
              "      <td>379.454923</td>\n",
              "      <td>384.609149</td>\n",
              "      <td>375.747847</td>\n",
              "      <td>380.308660</td>\n",
              "      <td>380.308660</td>\n",
              "      <td>7.031610e+05</td>\n",
              "    </tr>\n",
              "    <tr>\n",
              "      <th>min</th>\n",
              "      <td>671.000000</td>\n",
              "      <td>672.299988</td>\n",
              "      <td>663.283997</td>\n",
              "      <td>668.260010</td>\n",
              "      <td>668.260010</td>\n",
              "      <td>3.468000e+05</td>\n",
              "    </tr>\n",
              "    <tr>\n",
              "      <th>25%</th>\n",
              "      <td>957.377518</td>\n",
              "      <td>963.404984</td>\n",
              "      <td>950.767502</td>\n",
              "      <td>958.119980</td>\n",
              "      <td>958.119980</td>\n",
              "      <td>1.184300e+06</td>\n",
              "    </tr>\n",
              "    <tr>\n",
              "      <th>50%</th>\n",
              "      <td>1130.574951</td>\n",
              "      <td>1142.984985</td>\n",
              "      <td>1117.374024</td>\n",
              "      <td>1132.005005</td>\n",
              "      <td>1132.005005</td>\n",
              "      <td>1.423200e+06</td>\n",
              "    </tr>\n",
              "    <tr>\n",
              "      <th>75%</th>\n",
              "      <td>1357.785034</td>\n",
              "      <td>1372.300995</td>\n",
              "      <td>1346.885010</td>\n",
              "      <td>1358.957519</td>\n",
              "      <td>1358.957519</td>\n",
              "      <td>1.823950e+06</td>\n",
              "    </tr>\n",
              "    <tr>\n",
              "      <th>max</th>\n",
              "      <td>2499.500000</td>\n",
              "      <td>2505.000000</td>\n",
              "      <td>2487.330078</td>\n",
              "      <td>2491.399902</td>\n",
              "      <td>2491.399902</td>\n",
              "      <td>6.207000e+06</td>\n",
              "    </tr>\n",
              "  </tbody>\n",
              "</table>\n",
              "</div>\n",
              "      <button class=\"colab-df-convert\" onclick=\"convertToInteractive('df-8de2cbc5-13fe-4156-840e-08f891ba5390')\"\n",
              "              title=\"Convert this dataframe to an interactive table.\"\n",
              "              style=\"display:none;\">\n",
              "        \n",
              "  <svg xmlns=\"http://www.w3.org/2000/svg\" height=\"24px\"viewBox=\"0 0 24 24\"\n",
              "       width=\"24px\">\n",
              "    <path d=\"M0 0h24v24H0V0z\" fill=\"none\"/>\n",
              "    <path d=\"M18.56 5.44l.94 2.06.94-2.06 2.06-.94-2.06-.94-.94-2.06-.94 2.06-2.06.94zm-11 1L8.5 8.5l.94-2.06 2.06-.94-2.06-.94L8.5 2.5l-.94 2.06-2.06.94zm10 10l.94 2.06.94-2.06 2.06-.94-2.06-.94-.94-2.06-.94 2.06-2.06.94z\"/><path d=\"M17.41 7.96l-1.37-1.37c-.4-.4-.92-.59-1.43-.59-.52 0-1.04.2-1.43.59L10.3 9.45l-7.72 7.72c-.78.78-.78 2.05 0 2.83L4 21.41c.39.39.9.59 1.41.59.51 0 1.02-.2 1.41-.59l7.78-7.78 2.81-2.81c.8-.78.8-2.07 0-2.86zM5.41 20L4 18.59l7.72-7.72 1.47 1.35L5.41 20z\"/>\n",
              "  </svg>\n",
              "      </button>\n",
              "      \n",
              "  <style>\n",
              "    .colab-df-container {\n",
              "      display:flex;\n",
              "      flex-wrap:wrap;\n",
              "      gap: 12px;\n",
              "    }\n",
              "\n",
              "    .colab-df-convert {\n",
              "      background-color: #E8F0FE;\n",
              "      border: none;\n",
              "      border-radius: 50%;\n",
              "      cursor: pointer;\n",
              "      display: none;\n",
              "      fill: #1967D2;\n",
              "      height: 32px;\n",
              "      padding: 0 0 0 0;\n",
              "      width: 32px;\n",
              "    }\n",
              "\n",
              "    .colab-df-convert:hover {\n",
              "      background-color: #E2EBFA;\n",
              "      box-shadow: 0px 1px 2px rgba(60, 64, 67, 0.3), 0px 1px 3px 1px rgba(60, 64, 67, 0.15);\n",
              "      fill: #174EA6;\n",
              "    }\n",
              "\n",
              "    [theme=dark] .colab-df-convert {\n",
              "      background-color: #3B4455;\n",
              "      fill: #D2E3FC;\n",
              "    }\n",
              "\n",
              "    [theme=dark] .colab-df-convert:hover {\n",
              "      background-color: #434B5C;\n",
              "      box-shadow: 0px 1px 3px 1px rgba(0, 0, 0, 0.15);\n",
              "      filter: drop-shadow(0px 1px 2px rgba(0, 0, 0, 0.3));\n",
              "      fill: #FFFFFF;\n",
              "    }\n",
              "  </style>\n",
              "\n",
              "      <script>\n",
              "        const buttonEl =\n",
              "          document.querySelector('#df-8de2cbc5-13fe-4156-840e-08f891ba5390 button.colab-df-convert');\n",
              "        buttonEl.style.display =\n",
              "          google.colab.kernel.accessAllowed ? 'block' : 'none';\n",
              "\n",
              "        async function convertToInteractive(key) {\n",
              "          const element = document.querySelector('#df-8de2cbc5-13fe-4156-840e-08f891ba5390');\n",
              "          const dataTable =\n",
              "            await google.colab.kernel.invokeFunction('convertToInteractive',\n",
              "                                                     [key], {});\n",
              "          if (!dataTable) return;\n",
              "\n",
              "          const docLinkHtml = 'Like what you see? Visit the ' +\n",
              "            '<a target=\"_blank\" href=https://colab.research.google.com/notebooks/data_table.ipynb>data table notebook</a>'\n",
              "            + ' to learn more about interactive tables.';\n",
              "          element.innerHTML = '';\n",
              "          dataTable['output_type'] = 'display_data';\n",
              "          await google.colab.output.renderOutput(dataTable, element);\n",
              "          const docLink = document.createElement('div');\n",
              "          docLink.innerHTML = docLinkHtml;\n",
              "          element.appendChild(docLink);\n",
              "        }\n",
              "      </script>\n",
              "    </div>\n",
              "  </div>\n",
              "  "
            ]
          },
          "metadata": {},
          "execution_count": 222
        }
      ]
    },
    {
      "cell_type": "code",
      "source": [
        "df.Date= pd.to_datetime(df.Date)\n",
        "df2 =df.set_index('Date')"
      ],
      "metadata": {
        "id": "SRVorxbqMa-u"
      },
      "execution_count": 223,
      "outputs": []
    },
    {
      "cell_type": "code",
      "source": [
        "data = list(df2[\"Close\"])"
      ],
      "metadata": {
        "id": "B0Sk_JE6ZmYG"
      },
      "execution_count": 224,
      "outputs": []
    },
    {
      "cell_type": "code",
      "source": [
        "from statsmodels.tsa.stattools import adfuller\n",
        "\n",
        "result = adfuller(data)\n",
        "print(\"1. ADF : \",result[0])\n",
        "print(\"2. P-Value : \", result[1])\n",
        "print(\"3. Num Of Lags : \", result[2])\n",
        "print(\"4. Num Of Observations Used For ADF Regression:\", result[3])\n",
        "print(\"5. Critical Values :\")\n",
        "for key, val in result[4].items():\n",
        "  print(\"\\t\",key, \": \", val)"
      ],
      "metadata": {
        "colab": {
          "base_uri": "https://localhost:8080/"
        },
        "id": "8ktkxz5KkPzP",
        "outputId": "2befe074-d441-477f-e303-d84c08e6f44c"
      },
      "execution_count": 225,
      "outputs": [
        {
          "output_type": "stream",
          "name": "stdout",
          "text": [
            "1. ADF :  1.9368159937737082\n",
            "2. P-Value :  0.9985850027950328\n",
            "3. Num Of Lags :  22\n",
            "4. Num Of Observations Used For ADF Regression: 1235\n",
            "5. Critical Values :\n",
            "\t 1% :  -3.4356560275160835\n",
            "\t 5% :  -2.8638831211270817\n",
            "\t 10% :  -2.568017509711682\n"
          ]
        }
      ]
    },
    {
      "cell_type": "code",
      "source": [
        "!pip install pmdarima"
      ],
      "metadata": {
        "colab": {
          "base_uri": "https://localhost:8080/"
        },
        "id": "vjL1mGumkPwc",
        "outputId": "ad441128-4da8-41ba-bd2a-99eadcc75891"
      },
      "execution_count": 226,
      "outputs": [
        {
          "output_type": "stream",
          "name": "stdout",
          "text": [
            "Looking in indexes: https://pypi.org/simple, https://us-python.pkg.dev/colab-wheels/public/simple/\n",
            "Requirement already satisfied: pmdarima in /usr/local/lib/python3.7/dist-packages (1.8.5)\n",
            "Requirement already satisfied: pandas>=0.19 in /usr/local/lib/python3.7/dist-packages (from pmdarima) (1.3.5)\n",
            "Requirement already satisfied: Cython!=0.29.18,>=0.29 in /usr/local/lib/python3.7/dist-packages (from pmdarima) (0.29.30)\n",
            "Requirement already satisfied: numpy>=1.19.3 in /usr/local/lib/python3.7/dist-packages (from pmdarima) (1.21.6)\n",
            "Requirement already satisfied: scikit-learn>=0.22 in /usr/local/lib/python3.7/dist-packages (from pmdarima) (1.0.2)\n",
            "Requirement already satisfied: statsmodels!=0.12.0,>=0.11 in /usr/local/lib/python3.7/dist-packages (from pmdarima) (0.13.2)\n",
            "Requirement already satisfied: urllib3 in /usr/local/lib/python3.7/dist-packages (from pmdarima) (1.24.3)\n",
            "Requirement already satisfied: joblib>=0.11 in /usr/local/lib/python3.7/dist-packages (from pmdarima) (1.1.0)\n",
            "Requirement already satisfied: scipy>=1.3.2 in /usr/local/lib/python3.7/dist-packages (from pmdarima) (1.7.3)\n",
            "Requirement already satisfied: setuptools!=50.0.0,>=38.6.0 in /usr/local/lib/python3.7/dist-packages (from pmdarima) (57.4.0)\n",
            "Requirement already satisfied: python-dateutil>=2.7.3 in /usr/local/lib/python3.7/dist-packages (from pandas>=0.19->pmdarima) (2.8.2)\n",
            "Requirement already satisfied: pytz>=2017.3 in /usr/local/lib/python3.7/dist-packages (from pandas>=0.19->pmdarima) (2022.1)\n",
            "Requirement already satisfied: six>=1.5 in /usr/local/lib/python3.7/dist-packages (from python-dateutil>=2.7.3->pandas>=0.19->pmdarima) (1.15.0)\n",
            "Requirement already satisfied: threadpoolctl>=2.0.0 in /usr/local/lib/python3.7/dist-packages (from scikit-learn>=0.22->pmdarima) (3.1.0)\n",
            "Requirement already satisfied: patsy>=0.5.2 in /usr/local/lib/python3.7/dist-packages (from statsmodels!=0.12.0,>=0.11->pmdarima) (0.5.2)\n",
            "Requirement already satisfied: packaging>=21.3 in /usr/local/lib/python3.7/dist-packages (from statsmodels!=0.12.0,>=0.11->pmdarima) (21.3)\n",
            "Requirement already satisfied: pyparsing!=3.0.5,>=2.0.2 in /usr/local/lib/python3.7/dist-packages (from packaging>=21.3->statsmodels!=0.12.0,>=0.11->pmdarima) (3.0.9)\n"
          ]
        }
      ]
    },
    {
      "cell_type": "code",
      "source": [
        "from pmdarima.arima.utils import ndiffs\n",
        "d_value = ndiffs(data,test = \"adf\")\n",
        "print(\"d value:\", d_value)"
      ],
      "metadata": {
        "colab": {
          "base_uri": "https://localhost:8080/"
        },
        "id": "BleB9ugKkPtF",
        "outputId": "63f8e3d7-8cf7-422c-f623-fec435d588b9"
      },
      "execution_count": 227,
      "outputs": [
        {
          "output_type": "stream",
          "name": "stdout",
          "text": [
            "d value: 1\n"
          ]
        }
      ]
    },
    {
      "cell_type": "code",
      "source": [
        "from statsmodels.tsa.arima.model import ARIMA\n",
        "from pmdarima import auto_arima"
      ],
      "metadata": {
        "id": "DJMyJI4ikh_R"
      },
      "execution_count": 228,
      "outputs": []
    },
    {
      "cell_type": "code",
      "source": [
        "x_train= data[:-30]\n",
        "x_test = data[-30:]\n",
        "print(len(x_train),len(x_test))"
      ],
      "metadata": {
        "colab": {
          "base_uri": "https://localhost:8080/"
        },
        "id": "6Oc1YFG_kh9X",
        "outputId": "4997ae4b-8ed9-470c-ac6a-2316ea649186"
      },
      "execution_count": 229,
      "outputs": [
        {
          "output_type": "stream",
          "name": "stdout",
          "text": [
            "1228 30\n"
          ]
        }
      ]
    },
    {
      "cell_type": "code",
      "source": [
        "stepwise_fit = auto_arima(data,trace=True,suppress_warnings=True)\n",
        "print(stepwise_fit.summary())"
      ],
      "metadata": {
        "colab": {
          "base_uri": "https://localhost:8080/"
        },
        "id": "38jjcdCJkh7A",
        "outputId": "6682a745-8bc3-42c6-b00b-f8b4d684366e"
      },
      "execution_count": 231,
      "outputs": [
        {
          "output_type": "stream",
          "name": "stdout",
          "text": [
            "Performing stepwise search to minimize aic\n",
            " ARIMA(2,1,2)(0,0,0)[0] intercept   : AIC=11344.912, Time=1.17 sec\n",
            " ARIMA(0,1,0)(0,0,0)[0] intercept   : AIC=11352.162, Time=0.12 sec\n",
            " ARIMA(1,1,0)(0,0,0)[0] intercept   : AIC=11339.446, Time=0.22 sec\n",
            " ARIMA(0,1,1)(0,0,0)[0] intercept   : AIC=11340.105, Time=0.68 sec\n",
            " ARIMA(0,1,0)(0,0,0)[0]             : AIC=11355.272, Time=0.04 sec\n",
            " ARIMA(2,1,0)(0,0,0)[0] intercept   : AIC=11341.026, Time=0.17 sec\n",
            " ARIMA(1,1,1)(0,0,0)[0] intercept   : AIC=11340.960, Time=0.86 sec\n",
            " ARIMA(2,1,1)(0,0,0)[0] intercept   : AIC=11342.904, Time=1.38 sec\n",
            " ARIMA(1,1,0)(0,0,0)[0]             : AIC=11343.758, Time=0.05 sec\n",
            "\n",
            "Best model:  ARIMA(1,1,0)(0,0,0)[0] intercept\n",
            "Total fit time: 4.733 seconds\n"
          ]
        }
      ]
    },
    {
      "cell_type": "code",
      "source": [
        "import statsmodels.api as sm\n",
        "model = sm.tsa.arima.ARIMA(data, order=(1,1,0))"
      ],
      "metadata": {
        "id": "FHPcShp_kh4H"
      },
      "execution_count": 316,
      "outputs": []
    },
    {
      "cell_type": "code",
      "source": [
        "result = model.fit()\n",
        "result.summary()"
      ],
      "metadata": {
        "colab": {
          "base_uri": "https://localhost:8080/",
          "height": 405
        },
        "id": "psAb-uomk7qY",
        "outputId": "0208e8ad-3ab2-4835-ea2a-c082d26c22ee"
      },
      "execution_count": 317,
      "outputs": [
        {
          "output_type": "execute_result",
          "data": {
            "text/plain": [
              "<class 'statsmodels.iolib.summary.Summary'>\n",
              "\"\"\"\n",
              "                               SARIMAX Results                                \n",
              "==============================================================================\n",
              "Dep. Variable:                      y   No. Observations:                 1258\n",
              "Model:                 ARIMA(1, 1, 0)   Log Likelihood               -5669.879\n",
              "Date:                Tue, 26 Jul 2022   AIC                          11343.758\n",
              "Time:                        11:09:10   BIC                          11354.031\n",
              "Sample:                             0   HQIC                         11347.619\n",
              "                               - 1258                                         \n",
              "Covariance Type:                  opg                                         \n",
              "==============================================================================\n",
              "                 coef    std err          z      P>|z|      [0.025      0.975]\n",
              "------------------------------------------------------------------------------\n",
              "ar.L1         -0.1034      0.017     -6.209      0.000      -0.136      -0.071\n",
              "sigma2       485.0210      9.481     51.156      0.000     466.438     503.604\n",
              "===================================================================================\n",
              "Ljung-Box (L1) (Q):                   0.01   Jarque-Bera (JB):              2181.53\n",
              "Prob(Q):                              0.92   Prob(JB):                         0.00\n",
              "Heteroskedasticity (H):               9.53   Skew:                             0.02\n",
              "Prob(H) (two-sided):                  0.00   Kurtosis:                         9.45\n",
              "===================================================================================\n",
              "\n",
              "Warnings:\n",
              "[1] Covariance matrix calculated using the outer product of gradients (complex-step).\n",
              "\"\"\""
            ],
            "text/html": [
              "<table class=\"simpletable\">\n",
              "<caption>SARIMAX Results</caption>\n",
              "<tr>\n",
              "  <th>Dep. Variable:</th>           <td>y</td>        <th>  No. Observations:  </th>   <td>1258</td>   \n",
              "</tr>\n",
              "<tr>\n",
              "  <th>Model:</th>            <td>ARIMA(1, 1, 0)</td>  <th>  Log Likelihood     </th> <td>-5669.879</td>\n",
              "</tr>\n",
              "<tr>\n",
              "  <th>Date:</th>            <td>Tue, 26 Jul 2022</td> <th>  AIC                </th> <td>11343.758</td>\n",
              "</tr>\n",
              "<tr>\n",
              "  <th>Time:</th>                <td>11:09:10</td>     <th>  BIC                </th> <td>11354.031</td>\n",
              "</tr>\n",
              "<tr>\n",
              "  <th>Sample:</th>                  <td>0</td>        <th>  HQIC               </th> <td>11347.619</td>\n",
              "</tr>\n",
              "<tr>\n",
              "  <th></th>                      <td> - 1258</td>     <th>                     </th>     <td> </td>    \n",
              "</tr>\n",
              "<tr>\n",
              "  <th>Covariance Type:</th>        <td>opg</td>       <th>                     </th>     <td> </td>    \n",
              "</tr>\n",
              "</table>\n",
              "<table class=\"simpletable\">\n",
              "<tr>\n",
              "     <td></td>       <th>coef</th>     <th>std err</th>      <th>z</th>      <th>P>|z|</th>  <th>[0.025</th>    <th>0.975]</th>  \n",
              "</tr>\n",
              "<tr>\n",
              "  <th>ar.L1</th>  <td>   -0.1034</td> <td>    0.017</td> <td>   -6.209</td> <td> 0.000</td> <td>   -0.136</td> <td>   -0.071</td>\n",
              "</tr>\n",
              "<tr>\n",
              "  <th>sigma2</th> <td>  485.0210</td> <td>    9.481</td> <td>   51.156</td> <td> 0.000</td> <td>  466.438</td> <td>  503.604</td>\n",
              "</tr>\n",
              "</table>\n",
              "<table class=\"simpletable\">\n",
              "<tr>\n",
              "  <th>Ljung-Box (L1) (Q):</th>     <td>0.01</td> <th>  Jarque-Bera (JB):  </th> <td>2181.53</td>\n",
              "</tr>\n",
              "<tr>\n",
              "  <th>Prob(Q):</th>                <td>0.92</td> <th>  Prob(JB):          </th>  <td>0.00</td>  \n",
              "</tr>\n",
              "<tr>\n",
              "  <th>Heteroskedasticity (H):</th> <td>9.53</td> <th>  Skew:              </th>  <td>0.02</td>  \n",
              "</tr>\n",
              "<tr>\n",
              "  <th>Prob(H) (two-sided):</th>    <td>0.00</td> <th>  Kurtosis:          </th>  <td>9.45</td>  \n",
              "</tr>\n",
              "</table><br/><br/>Warnings:<br/>[1] Covariance matrix calculated using the outer product of gradients (complex-step)."
            ]
          },
          "metadata": {},
          "execution_count": 317
        }
      ]
    },
    {
      "cell_type": "code",
      "source": [
        "start=len(x_train)\n",
        "end=len(x_train)+len(x_test)-1\n",
        "pred = result.predict(start=start,end=end)\n",
        "pred"
      ],
      "metadata": {
        "colab": {
          "base_uri": "https://localhost:8080/"
        },
        "id": "bev9heVElEPg",
        "outputId": "8554b3e9-6145-467d-86d7-2b8e6bb1e4d8"
      },
      "execution_count": 318,
      "outputs": [
        {
          "output_type": "execute_result",
          "data": {
            "text/plain": [
              "array([2309.14827932, 2372.38542296, 2424.72331959, 2412.16377522,\n",
              "       2396.71536636, 2358.48000923, 2356.48259262, 2378.80608083,\n",
              "       2396.8974719 , 2347.55526901, 2312.16096685, 2246.28309162,\n",
              "       2259.60377737, 2310.558143  , 2320.8672045 , 2305.2885739 ,\n",
              "       2308.16414932, 2351.19226892, 2346.23616466, 2400.30527341,\n",
              "       2408.82195805, 2431.00153296, 2405.71663798, 2410.62452958,\n",
              "       2427.92350437, 2422.16180257, 2406.33332446, 2446.88598984,\n",
              "       2464.6087469 , 2481.11756789])"
            ]
          },
          "metadata": {},
          "execution_count": 318
        }
      ]
    },
    {
      "cell_type": "code",
      "source": [
        "pred3 = result.predict(start=end,end=end+10)\n",
        "pred3"
      ],
      "metadata": {
        "colab": {
          "base_uri": "https://localhost:8080/"
        },
        "id": "BRqC801ZAhwi",
        "outputId": "ee81bacb-a982-4dc0-ee01-52b42e100e2c"
      },
      "execution_count": 319,
      "outputs": [
        {
          "output_type": "execute_result",
          "data": {
            "text/plain": [
              "array([2481.11756789, 2490.51608434, 2490.60744709, 2490.59800266,\n",
              "       2490.59897896, 2490.59887804, 2490.59888847, 2490.59888739,\n",
              "       2490.5988875 , 2490.59888749, 2490.59888749])"
            ]
          },
          "metadata": {},
          "execution_count": 319
        }
      ]
    },
    {
      "cell_type": "code",
      "source": [
        "s = pd.Series(pred, index =df2.index[-30:])\n",
        "s"
      ],
      "metadata": {
        "colab": {
          "base_uri": "https://localhost:8080/"
        },
        "id": "K6L02fx40xQS",
        "outputId": "460e9b14-3591-4f2a-c8d3-c94d14a8d6ea"
      },
      "execution_count": 320,
      "outputs": [
        {
          "output_type": "execute_result",
          "data": {
            "text/plain": [
              "Date\n",
              "2021-04-28    2309.148279\n",
              "2021-04-29    2372.385423\n",
              "2021-04-30    2424.723320\n",
              "2021-05-03    2412.163775\n",
              "2021-05-04    2396.715366\n",
              "2021-05-05    2358.480009\n",
              "2021-05-06    2356.482593\n",
              "2021-05-07    2378.806081\n",
              "2021-05-10    2396.897472\n",
              "2021-05-11    2347.555269\n",
              "2021-05-12    2312.160967\n",
              "2021-05-13    2246.283092\n",
              "2021-05-14    2259.603777\n",
              "2021-05-17    2310.558143\n",
              "2021-05-18    2320.867205\n",
              "2021-05-19    2305.288574\n",
              "2021-05-20    2308.164149\n",
              "2021-05-21    2351.192269\n",
              "2021-05-24    2346.236165\n",
              "2021-05-25    2400.305273\n",
              "2021-05-26    2408.821958\n",
              "2021-05-27    2431.001533\n",
              "2021-05-28    2405.716638\n",
              "2021-06-01    2410.624530\n",
              "2021-06-02    2427.923504\n",
              "2021-06-03    2422.161803\n",
              "2021-06-04    2406.333324\n",
              "2021-06-07    2446.885990\n",
              "2021-06-08    2464.608747\n",
              "2021-06-09    2481.117568\n",
              "dtype: float64"
            ]
          },
          "metadata": {},
          "execution_count": 320
        }
      ]
    },
    {
      "cell_type": "code",
      "source": [
        "plt.figure(figsize=(10,6), dpi=100)\n",
        "df2['Close'][-30:].plot(label='Actual Stock Price', legend=True)\n",
        "s.plot(label='Predicted Price', legend=True,)"
      ],
      "metadata": {
        "colab": {
          "base_uri": "https://localhost:8080/",
          "height": 544
        },
        "id": "6W7Umbtj0xNG",
        "outputId": "71488af7-02a4-4eb5-db5e-24e7e0e0d327"
      },
      "execution_count": 321,
      "outputs": [
        {
          "output_type": "execute_result",
          "data": {
            "text/plain": [
              "<matplotlib.axes._subplots.AxesSubplot at 0x7f23e54f6710>"
            ]
          },
          "metadata": {},
          "execution_count": 321
        },
        {
          "output_type": "display_data",
          "data": {
            "text/plain": [
              "<Figure size 1000x600 with 1 Axes>"
            ],
            "image/png": "[encoded data removed]"
          },
          "metadata": {}
        }
      ]
    },
    {
      "cell_type": "code",
      "source": [
        "from sklearn.metrics import mean_squared_error\n",
        "np.sqrt(mean_squared_error(x_test,pred))"
      ],
      "metadata": {
        "colab": {
          "base_uri": "https://localhost:8080/"
        },
        "id": "RUzERmGh1KAs",
        "outputId": "e24a8494-4222-4660-83d1-95303d9a0417"
      },
      "execution_count": 252,
      "outputs": [
        {
          "output_type": "execute_result",
          "data": {
            "text/plain": [
              "34.89125872508387"
            ]
          },
          "metadata": {},
          "execution_count": 252
        }
      ]
    },
    {
      "cell_type": "code",
      "source": [
        "from sklearn.metrics import r2_score\n",
        "r2_score(x_test,pred)"
      ],
      "metadata": {
        "colab": {
          "base_uri": "https://localhost:8080/"
        },
        "id": "d91KvTUF1J-F",
        "outputId": "008f4583-b8d4-43de-fabd-930206ce0668"
      },
      "execution_count": 253,
      "outputs": [
        {
          "output_type": "execute_result",
          "data": {
            "text/plain": [
              "0.6739428036606327"
            ]
          },
          "metadata": {},
          "execution_count": 253
        }
      ]
    },
    {
      "cell_type": "code",
      "source": [
        ""
      ],
      "metadata": {
        "id": "6XD3r9N4-Vx1"
      },
      "execution_count": null,
      "outputs": []
    },
    {
      "cell_type": "code",
      "source": [
        "test = pd.read_csv(\"GOOG_test.csv\")\n",
        "test.Date= pd.to_datetime(test.Date)\n",
        "test2 =test.set_index('Date')\n",
        "test2.head()"
      ],
      "metadata": {
        "id": "pafQhaJZUR7Y",
        "colab": {
          "base_uri": "https://localhost:8080/",
          "height": 237
        },
        "outputId": "7e44d652-2273-48ef-9115-dd2b0af85738"
      },
      "execution_count": 283,
      "outputs": [
        {
          "output_type": "execute_result",
          "data": {
            "text/plain": [
              "                   Open         High          Low        Close    Adj Close  \\\n",
              "Date                                                                          \n",
              "2021-06-10  2494.010010  2523.260010  2494.000000  2521.600098  2521.600098   \n",
              "2021-06-11  2524.919922  2526.989990  2498.290039  2513.929932  2513.929932   \n",
              "2021-06-14  2513.389893  2528.229980  2500.939941  2527.040039  2527.040039   \n",
              "2021-06-15  2530.439941  2537.239990  2512.969971  2520.659912  2520.659912   \n",
              "2021-06-16  2524.949951  2530.469971  2482.999023  2513.929932  2513.929932   \n",
              "\n",
              "             Volume  \n",
              "Date                 \n",
              "2021-06-10  1561700  \n",
              "2021-06-11  1262000  \n",
              "2021-06-14  1127500  \n",
              "2021-06-15  1109100  \n",
              "2021-06-16  1315800  "
            ],
            "text/html": [
              "\n",
              "  <div id=\"df-fe0bab7f-3330-4cea-8028-346a6b5f1e1f\">\n",
              "    <div class=\"colab-df-container\">\n",
              "      <div>\n",
              "<style scoped>\n",
              "    .dataframe tbody tr th:only-of-type {\n",
              "        vertical-align: middle;\n",
              "    }\n",
              "\n",
              "    .dataframe tbody tr th {\n",
              "        vertical-align: top;\n",
              "    }\n",
              "\n",
              "    .dataframe thead th {\n",
              "        text-align: right;\n",
              "    }\n",
              "</style>\n",
              "<table border=\"1\" class=\"dataframe\">\n",
              "  <thead>\n",
              "    <tr style=\"text-align: right;\">\n",
              "      <th></th>\n",
              "      <th>Open</th>\n",
              "      <th>High</th>\n",
              "      <th>Low</th>\n",
              "      <th>Close</th>\n",
              "      <th>Adj Close</th>\n",
              "      <th>Volume</th>\n",
              "    </tr>\n",
              "    <tr>\n",
              "      <th>Date</th>\n",
              "      <th></th>\n",
              "      <th></th>\n",
              "      <th></th>\n",
              "      <th></th>\n",
              "      <th></th>\n",
              "      <th></th>\n",
              "    </tr>\n",
              "  </thead>\n",
              "  <tbody>\n",
              "    <tr>\n",
              "      <th>2021-06-10</th>\n",
              "      <td>2494.010010</td>\n",
              "      <td>2523.260010</td>\n",
              "      <td>2494.000000</td>\n",
              "      <td>2521.600098</td>\n",
              "      <td>2521.600098</td>\n",
              "      <td>1561700</td>\n",
              "    </tr>\n",
              "    <tr>\n",
              "      <th>2021-06-11</th>\n",
              "      <td>2524.919922</td>\n",
              "      <td>2526.989990</td>\n",
              "      <td>2498.290039</td>\n",
              "      <td>2513.929932</td>\n",
              "      <td>2513.929932</td>\n",
              "      <td>1262000</td>\n",
              "    </tr>\n",
              "    <tr>\n",
              "      <th>2021-06-14</th>\n",
              "      <td>2513.389893</td>\n",
              "      <td>2528.229980</td>\n",
              "      <td>2500.939941</td>\n",
              "      <td>2527.040039</td>\n",
              "      <td>2527.040039</td>\n",
              "      <td>1127500</td>\n",
              "    </tr>\n",
              "    <tr>\n",
              "      <th>2021-06-15</th>\n",
              "      <td>2530.439941</td>\n",
              "      <td>2537.239990</td>\n",
              "      <td>2512.969971</td>\n",
              "      <td>2520.659912</td>\n",
              "      <td>2520.659912</td>\n",
              "      <td>1109100</td>\n",
              "    </tr>\n",
              "    <tr>\n",
              "      <th>2021-06-16</th>\n",
              "      <td>2524.949951</td>\n",
              "      <td>2530.469971</td>\n",
              "      <td>2482.999023</td>\n",
              "      <td>2513.929932</td>\n",
              "      <td>2513.929932</td>\n",
              "      <td>1315800</td>\n",
              "    </tr>\n",
              "  </tbody>\n",
              "</table>\n",
              "</div>\n",
              "      <button class=\"colab-df-convert\" onclick=\"convertToInteractive('df-fe0bab7f-3330-4cea-8028-346a6b5f1e1f')\"\n",
              "              title=\"Convert this dataframe to an interactive table.\"\n",
              "              style=\"display:none;\">\n",
              "        \n",
              "  <svg xmlns=\"http://www.w3.org/2000/svg\" height=\"24px\"viewBox=\"0 0 24 24\"\n",
              "       width=\"24px\">\n",
              "    <path d=\"M0 0h24v24H0V0z\" fill=\"none\"/>\n",
              "    <path d=\"M18.56 5.44l.94 2.06.94-2.06 2.06-.94-2.06-.94-.94-2.06-.94 2.06-2.06.94zm-11 1L8.5 8.5l.94-2.06 2.06-.94-2.06-.94L8.5 2.5l-.94 2.06-2.06.94zm10 10l.94 2.06.94-2.06 2.06-.94-2.06-.94-.94-2.06-.94 2.06-2.06.94z\"/><path d=\"M17.41 7.96l-1.37-1.37c-.4-.4-.92-.59-1.43-.59-.52 0-1.04.2-1.43.59L10.3 9.45l-7.72 7.72c-.78.78-.78 2.05 0 2.83L4 21.41c.39.39.9.59 1.41.59.51 0 1.02-.2 1.41-.59l7.78-7.78 2.81-2.81c.8-.78.8-2.07 0-2.86zM5.41 20L4 18.59l7.72-7.72 1.47 1.35L5.41 20z\"/>\n",
              "  </svg>\n",
              "      </button>\n",
              "      \n",
              "  <style>\n",
              "    .colab-df-container {\n",
              "      display:flex;\n",
              "      flex-wrap:wrap;\n",
              "      gap: 12px;\n",
              "    }\n",
              "\n",
              "    .colab-df-convert {\n",
              "      background-color: #E8F0FE;\n",
              "      border: none;\n",
              "      border-radius: 50%;\n",
              "      cursor: pointer;\n",
              "      display: none;\n",
              "      fill: #1967D2;\n",
              "      height: 32px;\n",
              "      padding: 0 0 0 0;\n",
              "      width: 32px;\n",
              "    }\n",
              "\n",
              "    .colab-df-convert:hover {\n",
              "      background-color: #E2EBFA;\n",
              "      box-shadow: 0px 1px 2px rgba(60, 64, 67, 0.3), 0px 1px 3px 1px rgba(60, 64, 67, 0.15);\n",
              "      fill: #174EA6;\n",
              "    }\n",
              "\n",
              "    [theme=dark] .colab-df-convert {\n",
              "      background-color: #3B4455;\n",
              "      fill: #D2E3FC;\n",
              "    }\n",
              "\n",
              "    [theme=dark] .colab-df-convert:hover {\n",
              "      background-color: #434B5C;\n",
              "      box-shadow: 0px 1px 3px 1px rgba(0, 0, 0, 0.15);\n",
              "      filter: drop-shadow(0px 1px 2px rgba(0, 0, 0, 0.3));\n",
              "      fill: #FFFFFF;\n",
              "    }\n",
              "  </style>\n",
              "\n",
              "      <script>\n",
              "        const buttonEl =\n",
              "          document.querySelector('#df-fe0bab7f-3330-4cea-8028-346a6b5f1e1f button.colab-df-convert');\n",
              "        buttonEl.style.display =\n",
              "          google.colab.kernel.accessAllowed ? 'block' : 'none';\n",
              "\n",
              "        async function convertToInteractive(key) {\n",
              "          const element = document.querySelector('#df-fe0bab7f-3330-4cea-8028-346a6b5f1e1f');\n",
              "          const dataTable =\n",
              "            await google.colab.kernel.invokeFunction('convertToInteractive',\n",
              "                                                     [key], {});\n",
              "          if (!dataTable) return;\n",
              "\n",
              "          const docLinkHtml = 'Like what you see? Visit the ' +\n",
              "            '<a target=\"_blank\" href=https://colab.research.google.com/notebooks/data_table.ipynb>data table notebook</a>'\n",
              "            + ' to learn more about interactive tables.';\n",
              "          element.innerHTML = '';\n",
              "          dataTable['output_type'] = 'display_data';\n",
              "          await google.colab.output.renderOutput(dataTable, element);\n",
              "          const docLink = document.createElement('div');\n",
              "          docLink.innerHTML = docLinkHtml;\n",
              "          element.appendChild(docLink);\n",
              "        }\n",
              "      </script>\n",
              "    </div>\n",
              "  </div>\n",
              "  "
            ]
          },
          "metadata": {},
          "execution_count": 283
        }
      ]
    },
    {
      "cell_type": "code",
      "source": [
        "test2.info()\n",
        "test2.describe()"
      ],
      "metadata": {
        "colab": {
          "base_uri": "https://localhost:8080/",
          "height": 537
        },
        "id": "BA2k6aCz4eCO",
        "outputId": "41936915-2f31-4690-9471-c139d003ec75"
      },
      "execution_count": 284,
      "outputs": [
        {
          "output_type": "stream",
          "name": "stdout",
          "text": [
            "<class 'pandas.core.frame.DataFrame'>\n",
            "DatetimeIndex: 253 entries, 2021-06-10 to 2022-06-09\n",
            "Data columns (total 6 columns):\n",
            " #   Column     Non-Null Count  Dtype  \n",
            "---  ------     --------------  -----  \n",
            " 0   Open       253 non-null    float64\n",
            " 1   High       253 non-null    float64\n",
            " 2   Low        253 non-null    float64\n",
            " 3   Close      253 non-null    float64\n",
            " 4   Adj Close  253 non-null    float64\n",
            " 5   Volume     253 non-null    int64  \n",
            "dtypes: float64(5), int64(1)\n",
            "memory usage: 13.8 KB\n"
          ]
        },
        {
          "output_type": "execute_result",
          "data": {
            "text/plain": [
              "              Open         High          Low        Close    Adj Close  \\\n",
              "count   253.000000   253.000000   253.000000   253.000000   253.000000   \n",
              "mean   2702.674255  2730.161156  2672.508566  2700.858899  2700.858899   \n",
              "std     207.658815   202.614255   208.531935   205.434607   205.434607   \n",
              "min    2102.840088  2127.899902  2044.160034  2116.790039  2116.790039   \n",
              "25%    2596.669922  2618.074951  2550.070068  2584.800049  2584.800049   \n",
              "50%    2742.194092  2767.989990  2714.000000  2740.090088  2740.090088   \n",
              "75%    2864.020020  2885.959961  2834.699951  2856.060059  2856.060059   \n",
              "max    3037.270020  3042.000000  2997.750000  3014.179932  3014.179932   \n",
              "\n",
              "             Volume  \n",
              "count  2.530000e+02  \n",
              "mean   1.303822e+06  \n",
              "std    5.369361e+05  \n",
              "min    5.933000e+05  \n",
              "25%    9.462000e+05  \n",
              "50%    1.182100e+06  \n",
              "75%    1.512400e+06  \n",
              "max    4.487500e+06  "
            ],
            "text/html": [
              "\n",
              "  <div id=\"df-2324ff59-f337-4743-968d-2e828bfb1fff\">\n",
              "    <div class=\"colab-df-container\">\n",
              "      <div>\n",
              "<style scoped>\n",
              "    .dataframe tbody tr th:only-of-type {\n",
              "        vertical-align: middle;\n",
              "    }\n",
              "\n",
              "    .dataframe tbody tr th {\n",
              "        vertical-align: top;\n",
              "    }\n",
              "\n",
              "    .dataframe thead th {\n",
              "        text-align: right;\n",
              "    }\n",
              "</style>\n",
              "<table border=\"1\" class=\"dataframe\">\n",
              "  <thead>\n",
              "    <tr style=\"text-align: right;\">\n",
              "      <th></th>\n",
              "      <th>Open</th>\n",
              "      <th>High</th>\n",
              "      <th>Low</th>\n",
              "      <th>Close</th>\n",
              "      <th>Adj Close</th>\n",
              "      <th>Volume</th>\n",
              "    </tr>\n",
              "  </thead>\n",
              "  <tbody>\n",
              "    <tr>\n",
              "      <th>count</th>\n",
              "      <td>253.000000</td>\n",
              "      <td>253.000000</td>\n",
              "      <td>253.000000</td>\n",
              "      <td>253.000000</td>\n",
              "      <td>253.000000</td>\n",
              "      <td>2.530000e+02</td>\n",
              "    </tr>\n",
              "    <tr>\n",
              "      <th>mean</th>\n",
              "      <td>2702.674255</td>\n",
              "      <td>2730.161156</td>\n",
              "      <td>2672.508566</td>\n",
              "      <td>2700.858899</td>\n",
              "      <td>2700.858899</td>\n",
              "      <td>1.303822e+06</td>\n",
              "    </tr>\n",
              "    <tr>\n",
              "      <th>std</th>\n",
              "      <td>207.658815</td>\n",
              "      <td>202.614255</td>\n",
              "      <td>208.531935</td>\n",
              "      <td>205.434607</td>\n",
              "      <td>205.434607</td>\n",
              "      <td>5.369361e+05</td>\n",
              "    </tr>\n",
              "    <tr>\n",
              "      <th>min</th>\n",
              "      <td>2102.840088</td>\n",
              "      <td>2127.899902</td>\n",
              "      <td>2044.160034</td>\n",
              "      <td>2116.790039</td>\n",
              "      <td>2116.790039</td>\n",
              "      <td>5.933000e+05</td>\n",
              "    </tr>\n",
              "    <tr>\n",
              "      <th>25%</th>\n",
              "      <td>2596.669922</td>\n",
              "      <td>2618.074951</td>\n",
              "      <td>2550.070068</td>\n",
              "      <td>2584.800049</td>\n",
              "      <td>2584.800049</td>\n",
              "      <td>9.462000e+05</td>\n",
              "    </tr>\n",
              "    <tr>\n",
              "      <th>50%</th>\n",
              "      <td>2742.194092</td>\n",
              "      <td>2767.989990</td>\n",
              "      <td>2714.000000</td>\n",
              "      <td>2740.090088</td>\n",
              "      <td>2740.090088</td>\n",
              "      <td>1.182100e+06</td>\n",
              "    </tr>\n",
              "    <tr>\n",
              "      <th>75%</th>\n",
              "      <td>2864.020020</td>\n",
              "      <td>2885.959961</td>\n",
              "      <td>2834.699951</td>\n",
              "      <td>2856.060059</td>\n",
              "      <td>2856.060059</td>\n",
              "      <td>1.512400e+06</td>\n",
              "    </tr>\n",
              "    <tr>\n",
              "      <th>max</th>\n",
              "      <td>3037.270020</td>\n",
              "      <td>3042.000000</td>\n",
              "      <td>2997.750000</td>\n",
              "      <td>3014.179932</td>\n",
              "      <td>3014.179932</td>\n",
              "      <td>4.487500e+06</td>\n",
              "    </tr>\n",
              "  </tbody>\n",
              "</table>\n",
              "</div>\n",
              "      <button class=\"colab-df-convert\" onclick=\"convertToInteractive('df-2324ff59-f337-4743-968d-2e828bfb1fff')\"\n",
              "              title=\"Convert this dataframe to an interactive table.\"\n",
              "              style=\"display:none;\">\n",
              "        \n",
              "  <svg xmlns=\"http://www.w3.org/2000/svg\" height=\"24px\"viewBox=\"0 0 24 24\"\n",
              "       width=\"24px\">\n",
              "    <path d=\"M0 0h24v24H0V0z\" fill=\"none\"/>\n",
              "    <path d=\"M18.56 5.44l.94 2.06.94-2.06 2.06-.94-2.06-.94-.94-2.06-.94 2.06-2.06.94zm-11 1L8.5 8.5l.94-2.06 2.06-.94-2.06-.94L8.5 2.5l-.94 2.06-2.06.94zm10 10l.94 2.06.94-2.06 2.06-.94-2.06-.94-.94-2.06-.94 2.06-2.06.94z\"/><path d=\"M17.41 7.96l-1.37-1.37c-.4-.4-.92-.59-1.43-.59-.52 0-1.04.2-1.43.59L10.3 9.45l-7.72 7.72c-.78.78-.78 2.05 0 2.83L4 21.41c.39.39.9.59 1.41.59.51 0 1.02-.2 1.41-.59l7.78-7.78 2.81-2.81c.8-.78.8-2.07 0-2.86zM5.41 20L4 18.59l7.72-7.72 1.47 1.35L5.41 20z\"/>\n",
              "  </svg>\n",
              "      </button>\n",
              "      \n",
              "  <style>\n",
              "    .colab-df-container {\n",
              "      display:flex;\n",
              "      flex-wrap:wrap;\n",
              "      gap: 12px;\n",
              "    }\n",
              "\n",
              "    .colab-df-convert {\n",
              "      background-color: #E8F0FE;\n",
              "      border: none;\n",
              "      border-radius: 50%;\n",
              "      cursor: pointer;\n",
              "      display: none;\n",
              "      fill: #1967D2;\n",
              "      height: 32px;\n",
              "      padding: 0 0 0 0;\n",
              "      width: 32px;\n",
              "    }\n",
              "\n",
              "    .colab-df-convert:hover {\n",
              "      background-color: #E2EBFA;\n",
              "      box-shadow: 0px 1px 2px rgba(60, 64, 67, 0.3), 0px 1px 3px 1px rgba(60, 64, 67, 0.15);\n",
              "      fill: #174EA6;\n",
              "    }\n",
              "\n",
              "    [theme=dark] .colab-df-convert {\n",
              "      background-color: #3B4455;\n",
              "      fill: #D2E3FC;\n",
              "    }\n",
              "\n",
              "    [theme=dark] .colab-df-convert:hover {\n",
              "      background-color: #434B5C;\n",
              "      box-shadow: 0px 1px 3px 1px rgba(0, 0, 0, 0.15);\n",
              "      filter: drop-shadow(0px 1px 2px rgba(0, 0, 0, 0.3));\n",
              "      fill: #FFFFFF;\n",
              "    }\n",
              "  </style>\n",
              "\n",
              "      <script>\n",
              "        const buttonEl =\n",
              "          document.querySelector('#df-2324ff59-f337-4743-968d-2e828bfb1fff button.colab-df-convert');\n",
              "        buttonEl.style.display =\n",
              "          google.colab.kernel.accessAllowed ? 'block' : 'none';\n",
              "\n",
              "        async function convertToInteractive(key) {\n",
              "          const element = document.querySelector('#df-2324ff59-f337-4743-968d-2e828bfb1fff');\n",
              "          const dataTable =\n",
              "            await google.colab.kernel.invokeFunction('convertToInteractive',\n",
              "                                                     [key], {});\n",
              "          if (!dataTable) return;\n",
              "\n",
              "          const docLinkHtml = 'Like what you see? Visit the ' +\n",
              "            '<a target=\"_blank\" href=https://colab.research.google.com/notebooks/data_table.ipynb>data table notebook</a>'\n",
              "            + ' to learn more about interactive tables.';\n",
              "          element.innerHTML = '';\n",
              "          dataTable['output_type'] = 'display_data';\n",
              "          await google.colab.output.renderOutput(dataTable, element);\n",
              "          const docLink = document.createElement('div');\n",
              "          docLink.innerHTML = docLinkHtml;\n",
              "          element.appendChild(docLink);\n",
              "        }\n",
              "      </script>\n",
              "    </div>\n",
              "  </div>\n",
              "  "
            ]
          },
          "metadata": {},
          "execution_count": 284
        }
      ]
    },
    {
      "cell_type": "code",
      "source": [
        "data = list(df2[\"Close\"])\n",
        "test = list(test2[\"Close\"])\n",
        "data.extend(test)\n",
        "len(data)"
      ],
      "metadata": {
        "colab": {
          "base_uri": "https://localhost:8080/"
        },
        "id": "DsifgER34TvR",
        "outputId": "745ea8f3-9667-4911-c46d-fa04dd1b4faa"
      },
      "execution_count": 334,
      "outputs": [
        {
          "output_type": "execute_result",
          "data": {
            "text/plain": [
              "1511"
            ]
          },
          "metadata": {},
          "execution_count": 334
        }
      ]
    },
    {
      "cell_type": "code",
      "source": [
        "d_value2 = ndiffs(data,test = \"adf\")\n",
        "print(\"d value:\", d_value2)"
      ],
      "metadata": {
        "colab": {
          "base_uri": "https://localhost:8080/"
        },
        "id": "cfWFjAHk-ZG-",
        "outputId": "d5b5a9d0-0f0c-4467-a21e-b6bd5b491e25"
      },
      "execution_count": 325,
      "outputs": [
        {
          "output_type": "stream",
          "name": "stdout",
          "text": [
            "d value: 1\n"
          ]
        }
      ]
    },
    {
      "cell_type": "code",
      "source": [
        "stepwise_fit2 = auto_arima(data,trace=True,suppress_warnings=True)\n",
        "print(stepwise_fit2.summary())"
      ],
      "metadata": {
        "colab": {
          "base_uri": "https://localhost:8080/"
        },
        "id": "Z0K81Xkh4gam",
        "outputId": "f7269435-9327-4981-dfe5-66c992b3f430"
      },
      "execution_count": 326,
      "outputs": [
        {
          "output_type": "stream",
          "name": "stdout",
          "text": [
            "Performing stepwise search to minimize aic\n",
            " ARIMA(2,1,2)(0,0,0)[0] intercept   : AIC=14347.096, Time=3.10 sec\n",
            " ARIMA(0,1,0)(0,0,0)[0] intercept   : AIC=14353.081, Time=0.11 sec\n",
            " ARIMA(1,1,0)(0,0,0)[0] intercept   : AIC=14344.966, Time=0.13 sec\n",
            " ARIMA(0,1,1)(0,0,0)[0] intercept   : AIC=14345.393, Time=0.61 sec\n",
            " ARIMA(0,1,0)(0,0,0)[0]             : AIC=14353.185, Time=0.09 sec\n",
            " ARIMA(2,1,0)(0,0,0)[0] intercept   : AIC=14346.190, Time=0.17 sec\n",
            " ARIMA(1,1,1)(0,0,0)[0] intercept   : AIC=14344.779, Time=1.27 sec\n",
            " ARIMA(2,1,1)(0,0,0)[0] intercept   : AIC=14346.779, Time=1.99 sec\n",
            " ARIMA(1,1,2)(0,0,0)[0] intercept   : AIC=14346.779, Time=2.74 sec\n",
            " ARIMA(0,1,2)(0,0,0)[0] intercept   : AIC=14346.728, Time=1.07 sec\n",
            " ARIMA(1,1,1)(0,0,0)[0]             : AIC=14345.148, Time=0.56 sec\n",
            "\n",
            "Best model:  ARIMA(1,1,1)(0,0,0)[0] intercept\n",
            "Total fit time: 11.886 seconds\n",
            "                               SARIMAX Results                                \n",
            "==============================================================================\n",
            "Dep. Variable:                      y   No. Observations:                 1511\n",
            "Model:               SARIMAX(1, 1, 1)   Log Likelihood               -7168.390\n",
            "Date:                Tue, 26 Jul 2022   AIC                          14344.779\n",
            "Time:                        11:55:51   BIC                          14366.059\n",
            "Sample:                             0   HQIC                         14352.704\n",
            "                               - 1511                                         \n",
            "Covariance Type:                  opg                                         \n",
            "==============================================================================\n",
            "                 coef    std err          z      P>|z|      [0.025      0.975]\n",
            "------------------------------------------------------------------------------\n",
            "intercept      1.5704      1.044      1.504      0.133      -0.476       3.617\n",
            "ar.L1         -0.4993      0.135     -3.690      0.000      -0.764      -0.234\n",
            "ma.L1          0.4209      0.140      2.997      0.003       0.146       0.696\n",
            "sigma2       777.9779     14.115     55.116      0.000     750.313     805.643\n",
            "===================================================================================\n",
            "Ljung-Box (L1) (Q):                   0.00   Jarque-Bera (JB):              2307.80\n",
            "Prob(Q):                              1.00   Prob(JB):                         0.00\n",
            "Heteroskedasticity (H):              11.50   Skew:                             0.02\n",
            "Prob(H) (two-sided):                  0.00   Kurtosis:                         9.06\n",
            "===================================================================================\n",
            "\n",
            "Warnings:\n",
            "[1] Covariance matrix calculated using the outer product of gradients (complex-step).\n"
          ]
        }
      ]
    },
    {
      "cell_type": "code",
      "source": [
        "model2 = sm.tsa.arima.ARIMA(data, order=(1,1,1))\n",
        "result2 = model2.fit()\n",
        "result2.summary()"
      ],
      "metadata": {
        "colab": {
          "base_uri": "https://localhost:8080/",
          "height": 426
        },
        "id": "7XBEb3XG4gX_",
        "outputId": "9a67d609-ccb6-40b5-ecfd-7c44737d7b56"
      },
      "execution_count": 328,
      "outputs": [
        {
          "output_type": "execute_result",
          "data": {
            "text/plain": [
              "<class 'statsmodels.iolib.summary.Summary'>\n",
              "\"\"\"\n",
              "                               SARIMAX Results                                \n",
              "==============================================================================\n",
              "Dep. Variable:                      y   No. Observations:                 1511\n",
              "Model:                 ARIMA(1, 1, 1)   Log Likelihood               -7169.574\n",
              "Date:                Tue, 26 Jul 2022   AIC                          14345.148\n",
              "Time:                        11:56:37   BIC                          14361.108\n",
              "Sample:                             0   HQIC                         14351.092\n",
              "                               - 1511                                         \n",
              "Covariance Type:                  opg                                         \n",
              "==============================================================================\n",
              "                 coef    std err          z      P>|z|      [0.025      0.975]\n",
              "------------------------------------------------------------------------------\n",
              "ar.L1         -0.5012      0.136     -3.683      0.000      -0.768      -0.234\n",
              "ma.L1          0.4237      0.141      2.999      0.003       0.147       0.701\n",
              "sigma2       780.2720     14.192     54.978      0.000     752.455     808.089\n",
              "===================================================================================\n",
              "Ljung-Box (L1) (Q):                   0.00   Jarque-Bera (JB):              2307.40\n",
              "Prob(Q):                              0.97   Prob(JB):                         0.00\n",
              "Heteroskedasticity (H):              11.47   Skew:                             0.02\n",
              "Prob(H) (two-sided):                  0.00   Kurtosis:                         9.06\n",
              "===================================================================================\n",
              "\n",
              "Warnings:\n",
              "[1] Covariance matrix calculated using the outer product of gradients (complex-step).\n",
              "\"\"\""
            ],
            "text/html": [
              "<table class=\"simpletable\">\n",
              "<caption>SARIMAX Results</caption>\n",
              "<tr>\n",
              "  <th>Dep. Variable:</th>           <td>y</td>        <th>  No. Observations:  </th>   <td>1511</td>   \n",
              "</tr>\n",
              "<tr>\n",
              "  <th>Model:</th>            <td>ARIMA(1, 1, 1)</td>  <th>  Log Likelihood     </th> <td>-7169.574</td>\n",
              "</tr>\n",
              "<tr>\n",
              "  <th>Date:</th>            <td>Tue, 26 Jul 2022</td> <th>  AIC                </th> <td>14345.148</td>\n",
              "</tr>\n",
              "<tr>\n",
              "  <th>Time:</th>                <td>11:56:37</td>     <th>  BIC                </th> <td>14361.108</td>\n",
              "</tr>\n",
              "<tr>\n",
              "  <th>Sample:</th>                  <td>0</td>        <th>  HQIC               </th> <td>14351.092</td>\n",
              "</tr>\n",
              "<tr>\n",
              "  <th></th>                      <td> - 1511</td>     <th>                     </th>     <td> </td>    \n",
              "</tr>\n",
              "<tr>\n",
              "  <th>Covariance Type:</th>        <td>opg</td>       <th>                     </th>     <td> </td>    \n",
              "</tr>\n",
              "</table>\n",
              "<table class=\"simpletable\">\n",
              "<tr>\n",
              "     <td></td>       <th>coef</th>     <th>std err</th>      <th>z</th>      <th>P>|z|</th>  <th>[0.025</th>    <th>0.975]</th>  \n",
              "</tr>\n",
              "<tr>\n",
              "  <th>ar.L1</th>  <td>   -0.5012</td> <td>    0.136</td> <td>   -3.683</td> <td> 0.000</td> <td>   -0.768</td> <td>   -0.234</td>\n",
              "</tr>\n",
              "<tr>\n",
              "  <th>ma.L1</th>  <td>    0.4237</td> <td>    0.141</td> <td>    2.999</td> <td> 0.003</td> <td>    0.147</td> <td>    0.701</td>\n",
              "</tr>\n",
              "<tr>\n",
              "  <th>sigma2</th> <td>  780.2720</td> <td>   14.192</td> <td>   54.978</td> <td> 0.000</td> <td>  752.455</td> <td>  808.089</td>\n",
              "</tr>\n",
              "</table>\n",
              "<table class=\"simpletable\">\n",
              "<tr>\n",
              "  <th>Ljung-Box (L1) (Q):</th>     <td>0.00</td>  <th>  Jarque-Bera (JB):  </th> <td>2307.40</td>\n",
              "</tr>\n",
              "<tr>\n",
              "  <th>Prob(Q):</th>                <td>0.97</td>  <th>  Prob(JB):          </th>  <td>0.00</td>  \n",
              "</tr>\n",
              "<tr>\n",
              "  <th>Heteroskedasticity (H):</th> <td>11.47</td> <th>  Skew:              </th>  <td>0.02</td>  \n",
              "</tr>\n",
              "<tr>\n",
              "  <th>Prob(H) (two-sided):</th>    <td>0.00</td>  <th>  Kurtosis:          </th>  <td>9.06</td>  \n",
              "</tr>\n",
              "</table><br/><br/>Warnings:<br/>[1] Covariance matrix calculated using the outer product of gradients (complex-step)."
            ]
          },
          "metadata": {},
          "execution_count": 328
        }
      ]
    },
    {
      "cell_type": "code",
      "source": [
        "pred2 = result2.predict(start=len(data),end=len(data)+10)\n",
        "pred2"
      ],
      "metadata": {
        "colab": {
          "base_uri": "https://localhost:8080/"
        },
        "id": "aAegV3g-4gVl",
        "outputId": "ac79d93d-fd27-42e2-9e6c-fbb33658b196"
      },
      "execution_count": 329,
      "outputs": [
        {
          "output_type": "execute_result",
          "data": {
            "text/plain": [
              "array([2302.42206511, 2300.3861073 , 2301.40658169, 2300.8950937 ,\n",
              "       2301.15146462, 2301.02296493, 2301.08737228, 2301.05508966,\n",
              "       2301.07127054, 2301.06316026, 2301.06722534])"
            ]
          },
          "metadata": {},
          "execution_count": 329
        }
      ]
    },
    {
      "cell_type": "code",
      "source": [
        "import datetime\n",
        "start_date = datetime.datetime(2022,6,9)\n",
        "dates = [start_date + datetime.timedelta(days=idx) for idx in range(11)]"
      ],
      "metadata": {
        "id": "m6PmbKFk8epH"
      },
      "execution_count": 330,
      "outputs": []
    },
    {
      "cell_type": "code",
      "source": [
        "s2 = pd.Series(pred2, index = dates)\n",
        "s2"
      ],
      "metadata": {
        "colab": {
          "base_uri": "https://localhost:8080/"
        },
        "id": "EcU7GuZp5-PG",
        "outputId": "8cb96fde-49c9-4a91-aec8-3b3c61396c54"
      },
      "execution_count": 331,
      "outputs": [
        {
          "output_type": "execute_result",
          "data": {
            "text/plain": [
              "2022-06-09    2302.422065\n",
              "2022-06-10    2300.386107\n",
              "2022-06-11    2301.406582\n",
              "2022-06-12    2300.895094\n",
              "2022-06-13    2301.151465\n",
              "2022-06-14    2301.022965\n",
              "2022-06-15    2301.087372\n",
              "2022-06-16    2301.055090\n",
              "2022-06-17    2301.071271\n",
              "2022-06-18    2301.063160\n",
              "2022-06-19    2301.067225\n",
              "dtype: float64"
            ]
          },
          "metadata": {},
          "execution_count": 331
        }
      ]
    },
    {
      "cell_type": "code",
      "source": [
        "plt.figure(figsize=(10,6), dpi=100)\n",
        "test2['Close'][-30:].plot(label='Actual Stock Price', legend=True)\n",
        "s2.plot(label='Future Predicted Price', legend=True,)"
      ],
      "metadata": {
        "colab": {
          "base_uri": "https://localhost:8080/",
          "height": 544
        },
        "id": "dF692HeH87X-",
        "outputId": "57f36b0c-1f9e-47a4-9b88-c14c28f2b0c1"
      },
      "execution_count": 333,
      "outputs": [
        {
          "output_type": "execute_result",
          "data": {
            "text/plain": [
              "<matplotlib.axes._subplots.AxesSubplot at 0x7f23e53f3cd0>"
            ]
          },
          "metadata": {},
          "execution_count": 333
        },
        {
          "output_type": "display_data",
          "data": {
            "text/plain": [
              "<Figure size 1000x600 with 1 Axes>"
            ],
            "image/png": "[encoded data removed]"
          },
          "metadata": {}
        }
      ]
    },
    {
      "cell_type": "code",
      "source": [
        ""
      ],
      "metadata": {
        "id": "koDZOItr6_2A"
      },
      "execution_count": null,
      "outputs": []
    }
  ]
}