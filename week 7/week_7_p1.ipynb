{
  "nbformat": 4,
  "nbformat_minor": 0,
  "metadata": {
    "colab": {
      "name": "week-7 p1.ipynb",
      "provenance": []
    },
    "kernelspec": {
      "name": "python3",
      "display_name": "Python 3"
    },
    "language_info": {
      "name": "python"
    },
    "accelerator": "GPU",
    "gpuClass": "standard"
  },
  "cells": [
    {
      "cell_type": "code",
      "execution_count": 3,
      "metadata": {
        "id": "HCmQOGU-7NzN"
      },
      "outputs": [],
      "source": [
        "import pandas as pd\n",
        "import numpy as np\n",
        "import matplotlib.pyplot as plt\n",
        "import seaborn as sns"
      ]
    },
    {
      "cell_type": "code",
      "source": [
        "df = pd.read_csv(\"GOOG_train.csv\")"
      ],
      "metadata": {
        "id": "NbSWmV_S8lnT"
      },
      "execution_count": 4,
      "outputs": []
    },
    {
      "cell_type": "code",
      "source": [
        "df.head()"
      ],
      "metadata": {
        "id": "NJI1h5AB911y",
        "colab": {
          "base_uri": "https://localhost:8080/",
          "height": 206
        },
        "outputId": "30d21e5d-7843-462c-d9b1-b6ff350cfa97"
      },
      "execution_count": 5,
      "outputs": [
        {
          "output_type": "execute_result",
          "data": {
            "text/plain": [
              "         Date        Open        High         Low       Close   Adj Close  \\\n",
              "0  2016-06-10  719.469971  725.890015  716.429993  719.409973  719.409973   \n",
              "1  2016-06-13  716.510010  725.440002  716.510010  718.359985  718.359985   \n",
              "2  2016-06-14  716.479980  722.469971  713.119995  718.270020  718.270020   \n",
              "3  2016-06-15  719.000000  722.979980  717.309998  718.919983  718.919983   \n",
              "4  2016-06-16  714.909973  716.650024  703.260010  710.359985  710.359985   \n",
              "\n",
              "    Volume  \n",
              "0  1216400  \n",
              "1  1258900  \n",
              "2  1306100  \n",
              "3  1214500  \n",
              "4  1982500  "
            ],
            "text/html": [
              "\n",
              "  <div id=\"df-c698b377-4563-4410-95b5-41ddcdb26ad4\">\n",
              "    <div class=\"colab-df-container\">\n",
              "      <div>\n",
              "<style scoped>\n",
              "    .dataframe tbody tr th:only-of-type {\n",
              "        vertical-align: middle;\n",
              "    }\n",
              "\n",
              "    .dataframe tbody tr th {\n",
              "        vertical-align: top;\n",
              "    }\n",
              "\n",
              "    .dataframe thead th {\n",
              "        text-align: right;\n",
              "    }\n",
              "</style>\n",
              "<table border=\"1\" class=\"dataframe\">\n",
              "  <thead>\n",
              "    <tr style=\"text-align: right;\">\n",
              "      <th></th>\n",
              "      <th>Date</th>\n",
              "      <th>Open</th>\n",
              "      <th>High</th>\n",
              "      <th>Low</th>\n",
              "      <th>Close</th>\n",
              "      <th>Adj Close</th>\n",
              "      <th>Volume</th>\n",
              "    </tr>\n",
              "  </thead>\n",
              "  <tbody>\n",
              "    <tr>\n",
              "      <th>0</th>\n",
              "      <td>2016-06-10</td>\n",
              "      <td>719.469971</td>\n",
              "      <td>725.890015</td>\n",
              "      <td>716.429993</td>\n",
              "      <td>719.409973</td>\n",
              "      <td>719.409973</td>\n",
              "      <td>1216400</td>\n",
              "    </tr>\n",
              "    <tr>\n",
              "      <th>1</th>\n",
              "      <td>2016-06-13</td>\n",
              "      <td>716.510010</td>\n",
              "      <td>725.440002</td>\n",
              "      <td>716.510010</td>\n",
              "      <td>718.359985</td>\n",
              "      <td>718.359985</td>\n",
              "      <td>1258900</td>\n",
              "    </tr>\n",
              "    <tr>\n",
              "      <th>2</th>\n",
              "      <td>2016-06-14</td>\n",
              "      <td>716.479980</td>\n",
              "      <td>722.469971</td>\n",
              "      <td>713.119995</td>\n",
              "      <td>718.270020</td>\n",
              "      <td>718.270020</td>\n",
              "      <td>1306100</td>\n",
              "    </tr>\n",
              "    <tr>\n",
              "      <th>3</th>\n",
              "      <td>2016-06-15</td>\n",
              "      <td>719.000000</td>\n",
              "      <td>722.979980</td>\n",
              "      <td>717.309998</td>\n",
              "      <td>718.919983</td>\n",
              "      <td>718.919983</td>\n",
              "      <td>1214500</td>\n",
              "    </tr>\n",
              "    <tr>\n",
              "      <th>4</th>\n",
              "      <td>2016-06-16</td>\n",
              "      <td>714.909973</td>\n",
              "      <td>716.650024</td>\n",
              "      <td>703.260010</td>\n",
              "      <td>710.359985</td>\n",
              "      <td>710.359985</td>\n",
              "      <td>1982500</td>\n",
              "    </tr>\n",
              "  </tbody>\n",
              "</table>\n",
              "</div>\n",
              "      <button class=\"colab-df-convert\" onclick=\"convertToInteractive('df-c698b377-4563-4410-95b5-41ddcdb26ad4')\"\n",
              "              title=\"Convert this dataframe to an interactive table.\"\n",
              "              style=\"display:none;\">\n",
              "        \n",
              "  <svg xmlns=\"http://www.w3.org/2000/svg\" height=\"24px\"viewBox=\"0 0 24 24\"\n",
              "       width=\"24px\">\n",
              "    <path d=\"M0 0h24v24H0V0z\" fill=\"none\"/>\n",
              "    <path d=\"M18.56 5.44l.94 2.06.94-2.06 2.06-.94-2.06-.94-.94-2.06-.94 2.06-2.06.94zm-11 1L8.5 8.5l.94-2.06 2.06-.94-2.06-.94L8.5 2.5l-.94 2.06-2.06.94zm10 10l.94 2.06.94-2.06 2.06-.94-2.06-.94-.94-2.06-.94 2.06-2.06.94z\"/><path d=\"M17.41 7.96l-1.37-1.37c-.4-.4-.92-.59-1.43-.59-.52 0-1.04.2-1.43.59L10.3 9.45l-7.72 7.72c-.78.78-.78 2.05 0 2.83L4 21.41c.39.39.9.59 1.41.59.51 0 1.02-.2 1.41-.59l7.78-7.78 2.81-2.81c.8-.78.8-2.07 0-2.86zM5.41 20L4 18.59l7.72-7.72 1.47 1.35L5.41 20z\"/>\n",
              "  </svg>\n",
              "      </button>\n",
              "      \n",
              "  <style>\n",
              "    .colab-df-container {\n",
              "      display:flex;\n",
              "      flex-wrap:wrap;\n",
              "      gap: 12px;\n",
              "    }\n",
              "\n",
              "    .colab-df-convert {\n",
              "      background-color: #E8F0FE;\n",
              "      border: none;\n",
              "      border-radius: 50%;\n",
              "      cursor: pointer;\n",
              "      display: none;\n",
              "      fill: #1967D2;\n",
              "      height: 32px;\n",
              "      padding: 0 0 0 0;\n",
              "      width: 32px;\n",
              "    }\n",
              "\n",
              "    .colab-df-convert:hover {\n",
              "      background-color: #E2EBFA;\n",
              "      box-shadow: 0px 1px 2px rgba(60, 64, 67, 0.3), 0px 1px 3px 1px rgba(60, 64, 67, 0.15);\n",
              "      fill: #174EA6;\n",
              "    }\n",
              "\n",
              "    [theme=dark] .colab-df-convert {\n",
              "      background-color: #3B4455;\n",
              "      fill: #D2E3FC;\n",
              "    }\n",
              "\n",
              "    [theme=dark] .colab-df-convert:hover {\n",
              "      background-color: #434B5C;\n",
              "      box-shadow: 0px 1px 3px 1px rgba(0, 0, 0, 0.15);\n",
              "      filter: drop-shadow(0px 1px 2px rgba(0, 0, 0, 0.3));\n",
              "      fill: #FFFFFF;\n",
              "    }\n",
              "  </style>\n",
              "\n",
              "      <script>\n",
              "        const buttonEl =\n",
              "          document.querySelector('#df-c698b377-4563-4410-95b5-41ddcdb26ad4 button.colab-df-convert');\n",
              "        buttonEl.style.display =\n",
              "          google.colab.kernel.accessAllowed ? 'block' : 'none';\n",
              "\n",
              "        async function convertToInteractive(key) {\n",
              "          const element = document.querySelector('#df-c698b377-4563-4410-95b5-41ddcdb26ad4');\n",
              "          const dataTable =\n",
              "            await google.colab.kernel.invokeFunction('convertToInteractive',\n",
              "                                                     [key], {});\n",
              "          if (!dataTable) return;\n",
              "\n",
              "          const docLinkHtml = 'Like what you see? Visit the ' +\n",
              "            '<a target=\"_blank\" href=https://colab.research.google.com/notebooks/data_table.ipynb>data table notebook</a>'\n",
              "            + ' to learn more about interactive tables.';\n",
              "          element.innerHTML = '';\n",
              "          dataTable['output_type'] = 'display_data';\n",
              "          await google.colab.output.renderOutput(dataTable, element);\n",
              "          const docLink = document.createElement('div');\n",
              "          docLink.innerHTML = docLinkHtml;\n",
              "          element.appendChild(docLink);\n",
              "        }\n",
              "      </script>\n",
              "    </div>\n",
              "  </div>\n",
              "  "
            ]
          },
          "metadata": {},
          "execution_count": 5
        }
      ]
    },
    {
      "cell_type": "code",
      "source": [
        "df.info()"
      ],
      "metadata": {
        "id": "rfQszgWR96eW",
        "colab": {
          "base_uri": "https://localhost:8080/"
        },
        "outputId": "98b1eda4-0dc6-4ffc-8098-e5208165d8a9"
      },
      "execution_count": 6,
      "outputs": [
        {
          "output_type": "stream",
          "name": "stdout",
          "text": [
            "<class 'pandas.core.frame.DataFrame'>\n",
            "RangeIndex: 1258 entries, 0 to 1257\n",
            "Data columns (total 7 columns):\n",
            " #   Column     Non-Null Count  Dtype  \n",
            "---  ------     --------------  -----  \n",
            " 0   Date       1258 non-null   object \n",
            " 1   Open       1258 non-null   float64\n",
            " 2   High       1258 non-null   float64\n",
            " 3   Low        1258 non-null   float64\n",
            " 4   Close      1258 non-null   float64\n",
            " 5   Adj Close  1258 non-null   float64\n",
            " 6   Volume     1258 non-null   int64  \n",
            "dtypes: float64(5), int64(1), object(1)\n",
            "memory usage: 68.9+ KB\n"
          ]
        }
      ]
    },
    {
      "cell_type": "code",
      "source": [
        "df.describe()"
      ],
      "metadata": {
        "id": "gFdFJfth96vi",
        "colab": {
          "base_uri": "https://localhost:8080/",
          "height": 300
        },
        "outputId": "8402f382-2290-446c-d1a8-dc71e70644c4"
      },
      "execution_count": 7,
      "outputs": [
        {
          "output_type": "execute_result",
          "data": {
            "text/plain": [
              "              Open         High          Low        Close    Adj Close  \\\n",
              "count  1258.000000  1258.000000  1258.000000  1258.000000  1258.000000   \n",
              "mean   1212.412150  1224.570048  1201.347431  1213.457483  1213.457483   \n",
              "std     379.454923   384.609149   375.747847   380.308660   380.308660   \n",
              "min     671.000000   672.299988   663.283997   668.260010   668.260010   \n",
              "25%     957.377518   963.404984   950.767502   958.119980   958.119980   \n",
              "50%    1130.574951  1142.984985  1117.374024  1132.005005  1132.005005   \n",
              "75%    1357.785034  1372.300995  1346.885010  1358.957519  1358.957519   \n",
              "max    2499.500000  2505.000000  2487.330078  2491.399902  2491.399902   \n",
              "\n",
              "             Volume  \n",
              "count  1.258000e+03  \n",
              "mean   1.610740e+06  \n",
              "std    7.031610e+05  \n",
              "min    3.468000e+05  \n",
              "25%    1.184300e+06  \n",
              "50%    1.423200e+06  \n",
              "75%    1.823950e+06  \n",
              "max    6.207000e+06  "
            ],
            "text/html": [
              "\n",
              "  <div id=\"df-6858d5ac-372a-415d-8a22-d14c8e6398fc\">\n",
              "    <div class=\"colab-df-container\">\n",
              "      <div>\n",
              "<style scoped>\n",
              "    .dataframe tbody tr th:only-of-type {\n",
              "        vertical-align: middle;\n",
              "    }\n",
              "\n",
              "    .dataframe tbody tr th {\n",
              "        vertical-align: top;\n",
              "    }\n",
              "\n",
              "    .dataframe thead th {\n",
              "        text-align: right;\n",
              "    }\n",
              "</style>\n",
              "<table border=\"1\" class=\"dataframe\">\n",
              "  <thead>\n",
              "    <tr style=\"text-align: right;\">\n",
              "      <th></th>\n",
              "      <th>Open</th>\n",
              "      <th>High</th>\n",
              "      <th>Low</th>\n",
              "      <th>Close</th>\n",
              "      <th>Adj Close</th>\n",
              "      <th>Volume</th>\n",
              "    </tr>\n",
              "  </thead>\n",
              "  <tbody>\n",
              "    <tr>\n",
              "      <th>count</th>\n",
              "      <td>1258.000000</td>\n",
              "      <td>1258.000000</td>\n",
              "      <td>1258.000000</td>\n",
              "      <td>1258.000000</td>\n",
              "      <td>1258.000000</td>\n",
              "      <td>1.258000e+03</td>\n",
              "    </tr>\n",
              "    <tr>\n",
              "      <th>mean</th>\n",
              "      <td>1212.412150</td>\n",
              "      <td>1224.570048</td>\n",
              "      <td>1201.347431</td>\n",
              "      <td>1213.457483</td>\n",
              "      <td>1213.457483</td>\n",
              "      <td>1.610740e+06</td>\n",
              "    </tr>\n",
              "    <tr>\n",
              "      <th>std</th>\n",
              "      <td>379.454923</td>\n",
              "      <td>384.609149</td>\n",
              "      <td>375.747847</td>\n",
              "      <td>380.308660</td>\n",
              "      <td>380.308660</td>\n",
              "      <td>7.031610e+05</td>\n",
              "    </tr>\n",
              "    <tr>\n",
              "      <th>min</th>\n",
              "      <td>671.000000</td>\n",
              "      <td>672.299988</td>\n",
              "      <td>663.283997</td>\n",
              "      <td>668.260010</td>\n",
              "      <td>668.260010</td>\n",
              "      <td>3.468000e+05</td>\n",
              "    </tr>\n",
              "    <tr>\n",
              "      <th>25%</th>\n",
              "      <td>957.377518</td>\n",
              "      <td>963.404984</td>\n",
              "      <td>950.767502</td>\n",
              "      <td>958.119980</td>\n",
              "      <td>958.119980</td>\n",
              "      <td>1.184300e+06</td>\n",
              "    </tr>\n",
              "    <tr>\n",
              "      <th>50%</th>\n",
              "      <td>1130.574951</td>\n",
              "      <td>1142.984985</td>\n",
              "      <td>1117.374024</td>\n",
              "      <td>1132.005005</td>\n",
              "      <td>1132.005005</td>\n",
              "      <td>1.423200e+06</td>\n",
              "    </tr>\n",
              "    <tr>\n",
              "      <th>75%</th>\n",
              "      <td>1357.785034</td>\n",
              "      <td>1372.300995</td>\n",
              "      <td>1346.885010</td>\n",
              "      <td>1358.957519</td>\n",
              "      <td>1358.957519</td>\n",
              "      <td>1.823950e+06</td>\n",
              "    </tr>\n",
              "    <tr>\n",
              "      <th>max</th>\n",
              "      <td>2499.500000</td>\n",
              "      <td>2505.000000</td>\n",
              "      <td>2487.330078</td>\n",
              "      <td>2491.399902</td>\n",
              "      <td>2491.399902</td>\n",
              "      <td>6.207000e+06</td>\n",
              "    </tr>\n",
              "  </tbody>\n",
              "</table>\n",
              "</div>\n",
              "      <button class=\"colab-df-convert\" onclick=\"convertToInteractive('df-6858d5ac-372a-415d-8a22-d14c8e6398fc')\"\n",
              "              title=\"Convert this dataframe to an interactive table.\"\n",
              "              style=\"display:none;\">\n",
              "        \n",
              "  <svg xmlns=\"http://www.w3.org/2000/svg\" height=\"24px\"viewBox=\"0 0 24 24\"\n",
              "       width=\"24px\">\n",
              "    <path d=\"M0 0h24v24H0V0z\" fill=\"none\"/>\n",
              "    <path d=\"M18.56 5.44l.94 2.06.94-2.06 2.06-.94-2.06-.94-.94-2.06-.94 2.06-2.06.94zm-11 1L8.5 8.5l.94-2.06 2.06-.94-2.06-.94L8.5 2.5l-.94 2.06-2.06.94zm10 10l.94 2.06.94-2.06 2.06-.94-2.06-.94-.94-2.06-.94 2.06-2.06.94z\"/><path d=\"M17.41 7.96l-1.37-1.37c-.4-.4-.92-.59-1.43-.59-.52 0-1.04.2-1.43.59L10.3 9.45l-7.72 7.72c-.78.78-.78 2.05 0 2.83L4 21.41c.39.39.9.59 1.41.59.51 0 1.02-.2 1.41-.59l7.78-7.78 2.81-2.81c.8-.78.8-2.07 0-2.86zM5.41 20L4 18.59l7.72-7.72 1.47 1.35L5.41 20z\"/>\n",
              "  </svg>\n",
              "      </button>\n",
              "      \n",
              "  <style>\n",
              "    .colab-df-container {\n",
              "      display:flex;\n",
              "      flex-wrap:wrap;\n",
              "      gap: 12px;\n",
              "    }\n",
              "\n",
              "    .colab-df-convert {\n",
              "      background-color: #E8F0FE;\n",
              "      border: none;\n",
              "      border-radius: 50%;\n",
              "      cursor: pointer;\n",
              "      display: none;\n",
              "      fill: #1967D2;\n",
              "      height: 32px;\n",
              "      padding: 0 0 0 0;\n",
              "      width: 32px;\n",
              "    }\n",
              "\n",
              "    .colab-df-convert:hover {\n",
              "      background-color: #E2EBFA;\n",
              "      box-shadow: 0px 1px 2px rgba(60, 64, 67, 0.3), 0px 1px 3px 1px rgba(60, 64, 67, 0.15);\n",
              "      fill: #174EA6;\n",
              "    }\n",
              "\n",
              "    [theme=dark] .colab-df-convert {\n",
              "      background-color: #3B4455;\n",
              "      fill: #D2E3FC;\n",
              "    }\n",
              "\n",
              "    [theme=dark] .colab-df-convert:hover {\n",
              "      background-color: #434B5C;\n",
              "      box-shadow: 0px 1px 3px 1px rgba(0, 0, 0, 0.15);\n",
              "      filter: drop-shadow(0px 1px 2px rgba(0, 0, 0, 0.3));\n",
              "      fill: #FFFFFF;\n",
              "    }\n",
              "  </style>\n",
              "\n",
              "      <script>\n",
              "        const buttonEl =\n",
              "          document.querySelector('#df-6858d5ac-372a-415d-8a22-d14c8e6398fc button.colab-df-convert');\n",
              "        buttonEl.style.display =\n",
              "          google.colab.kernel.accessAllowed ? 'block' : 'none';\n",
              "\n",
              "        async function convertToInteractive(key) {\n",
              "          const element = document.querySelector('#df-6858d5ac-372a-415d-8a22-d14c8e6398fc');\n",
              "          const dataTable =\n",
              "            await google.colab.kernel.invokeFunction('convertToInteractive',\n",
              "                                                     [key], {});\n",
              "          if (!dataTable) return;\n",
              "\n",
              "          const docLinkHtml = 'Like what you see? Visit the ' +\n",
              "            '<a target=\"_blank\" href=https://colab.research.google.com/notebooks/data_table.ipynb>data table notebook</a>'\n",
              "            + ' to learn more about interactive tables.';\n",
              "          element.innerHTML = '';\n",
              "          dataTable['output_type'] = 'display_data';\n",
              "          await google.colab.output.renderOutput(dataTable, element);\n",
              "          const docLink = document.createElement('div');\n",
              "          docLink.innerHTML = docLinkHtml;\n",
              "          element.appendChild(docLink);\n",
              "        }\n",
              "      </script>\n",
              "    </div>\n",
              "  </div>\n",
              "  "
            ]
          },
          "metadata": {},
          "execution_count": 7
        }
      ]
    },
    {
      "cell_type": "code",
      "source": [
        "df.Date= pd.to_datetime(df.Date)"
      ],
      "metadata": {
        "id": "qBo23IAQ-hSE"
      },
      "execution_count": 8,
      "outputs": []
    },
    {
      "cell_type": "code",
      "source": [
        "df2 =df.set_index('Date')\n",
        "df2"
      ],
      "metadata": {
        "colab": {
          "base_uri": "https://localhost:8080/",
          "height": 455
        },
        "id": "0PHwpLS9AGSM",
        "outputId": "c400c50b-97ad-4da7-b605-7e13e8ab0451"
      },
      "execution_count": 9,
      "outputs": [
        {
          "output_type": "execute_result",
          "data": {
            "text/plain": [
              "                   Open         High          Low        Close    Adj Close  \\\n",
              "Date                                                                          \n",
              "2016-06-10   719.469971   725.890015   716.429993   719.409973   719.409973   \n",
              "2016-06-13   716.510010   725.440002   716.510010   718.359985   718.359985   \n",
              "2016-06-14   716.479980   722.469971   713.119995   718.270020   718.270020   \n",
              "2016-06-15   719.000000   722.979980   717.309998   718.919983   718.919983   \n",
              "2016-06-16   714.909973   716.650024   703.260010   710.359985   710.359985   \n",
              "...                 ...          ...          ...          ...          ...   \n",
              "2021-06-03  2395.020020  2409.745117  2382.830078  2404.610107  2404.610107   \n",
              "2021-06-04  2422.520020  2453.858887  2417.770020  2451.760010  2451.760010   \n",
              "2021-06-07  2451.320068  2468.000000  2441.072998  2466.090088  2466.090088   \n",
              "2021-06-08  2479.899902  2494.495117  2468.239990  2482.850098  2482.850098   \n",
              "2021-06-09  2499.500000  2505.000000  2487.330078  2491.399902  2491.399902   \n",
              "\n",
              "             Volume  \n",
              "Date                 \n",
              "2016-06-10  1216400  \n",
              "2016-06-13  1258900  \n",
              "2016-06-14  1306100  \n",
              "2016-06-15  1214500  \n",
              "2016-06-16  1982500  \n",
              "...             ...  \n",
              "2021-06-03   917300  \n",
              "2021-06-04  1297400  \n",
              "2021-06-07  1192500  \n",
              "2021-06-08  1253000  \n",
              "2021-06-09  1006300  \n",
              "\n",
              "[1258 rows x 6 columns]"
            ],
            "text/html": [
              "\n",
              "  <div id=\"df-1cac7c52-0323-46be-b1e0-1a38189b6939\">\n",
              "    <div class=\"colab-df-container\">\n",
              "      <div>\n",
              "<style scoped>\n",
              "    .dataframe tbody tr th:only-of-type {\n",
              "        vertical-align: middle;\n",
              "    }\n",
              "\n",
              "    .dataframe tbody tr th {\n",
              "        vertical-align: top;\n",
              "    }\n",
              "\n",
              "    .dataframe thead th {\n",
              "        text-align: right;\n",
              "    }\n",
              "</style>\n",
              "<table border=\"1\" class=\"dataframe\">\n",
              "  <thead>\n",
              "    <tr style=\"text-align: right;\">\n",
              "      <th></th>\n",
              "      <th>Open</th>\n",
              "      <th>High</th>\n",
              "      <th>Low</th>\n",
              "      <th>Close</th>\n",
              "      <th>Adj Close</th>\n",
              "      <th>Volume</th>\n",
              "    </tr>\n",
              "    <tr>\n",
              "      <th>Date</th>\n",
              "      <th></th>\n",
              "      <th></th>\n",
              "      <th></th>\n",
              "      <th></th>\n",
              "      <th></th>\n",
              "      <th></th>\n",
              "    </tr>\n",
              "  </thead>\n",
              "  <tbody>\n",
              "    <tr>\n",
              "      <th>2016-06-10</th>\n",
              "      <td>719.469971</td>\n",
              "      <td>725.890015</td>\n",
              "      <td>716.429993</td>\n",
              "      <td>719.409973</td>\n",
              "      <td>719.409973</td>\n",
              "      <td>1216400</td>\n",
              "    </tr>\n",
              "    <tr>\n",
              "      <th>2016-06-13</th>\n",
              "      <td>716.510010</td>\n",
              "      <td>725.440002</td>\n",
              "      <td>716.510010</td>\n",
              "      <td>718.359985</td>\n",
              "      <td>718.359985</td>\n",
              "      <td>1258900</td>\n",
              "    </tr>\n",
              "    <tr>\n",
              "      <th>2016-06-14</th>\n",
              "      <td>716.479980</td>\n",
              "      <td>722.469971</td>\n",
              "      <td>713.119995</td>\n",
              "      <td>718.270020</td>\n",
              "      <td>718.270020</td>\n",
              "      <td>1306100</td>\n",
              "    </tr>\n",
              "    <tr>\n",
              "      <th>2016-06-15</th>\n",
              "      <td>719.000000</td>\n",
              "      <td>722.979980</td>\n",
              "      <td>717.309998</td>\n",
              "      <td>718.919983</td>\n",
              "      <td>718.919983</td>\n",
              "      <td>1214500</td>\n",
              "    </tr>\n",
              "    <tr>\n",
              "      <th>2016-06-16</th>\n",
              "      <td>714.909973</td>\n",
              "      <td>716.650024</td>\n",
              "      <td>703.260010</td>\n",
              "      <td>710.359985</td>\n",
              "      <td>710.359985</td>\n",
              "      <td>1982500</td>\n",
              "    </tr>\n",
              "    <tr>\n",
              "      <th>...</th>\n",
              "      <td>...</td>\n",
              "      <td>...</td>\n",
              "      <td>...</td>\n",
              "      <td>...</td>\n",
              "      <td>...</td>\n",
              "      <td>...</td>\n",
              "    </tr>\n",
              "    <tr>\n",
              "      <th>2021-06-03</th>\n",
              "      <td>2395.020020</td>\n",
              "      <td>2409.745117</td>\n",
              "      <td>2382.830078</td>\n",
              "      <td>2404.610107</td>\n",
              "      <td>2404.610107</td>\n",
              "      <td>917300</td>\n",
              "    </tr>\n",
              "    <tr>\n",
              "      <th>2021-06-04</th>\n",
              "      <td>2422.520020</td>\n",
              "      <td>2453.858887</td>\n",
              "      <td>2417.770020</td>\n",
              "      <td>2451.760010</td>\n",
              "      <td>2451.760010</td>\n",
              "      <td>1297400</td>\n",
              "    </tr>\n",
              "    <tr>\n",
              "      <th>2021-06-07</th>\n",
              "      <td>2451.320068</td>\n",
              "      <td>2468.000000</td>\n",
              "      <td>2441.072998</td>\n",
              "      <td>2466.090088</td>\n",
              "      <td>2466.090088</td>\n",
              "      <td>1192500</td>\n",
              "    </tr>\n",
              "    <tr>\n",
              "      <th>2021-06-08</th>\n",
              "      <td>2479.899902</td>\n",
              "      <td>2494.495117</td>\n",
              "      <td>2468.239990</td>\n",
              "      <td>2482.850098</td>\n",
              "      <td>2482.850098</td>\n",
              "      <td>1253000</td>\n",
              "    </tr>\n",
              "    <tr>\n",
              "      <th>2021-06-09</th>\n",
              "      <td>2499.500000</td>\n",
              "      <td>2505.000000</td>\n",
              "      <td>2487.330078</td>\n",
              "      <td>2491.399902</td>\n",
              "      <td>2491.399902</td>\n",
              "      <td>1006300</td>\n",
              "    </tr>\n",
              "  </tbody>\n",
              "</table>\n",
              "<p>1258 rows × 6 columns</p>\n",
              "</div>\n",
              "      <button class=\"colab-df-convert\" onclick=\"convertToInteractive('df-1cac7c52-0323-46be-b1e0-1a38189b6939')\"\n",
              "              title=\"Convert this dataframe to an interactive table.\"\n",
              "              style=\"display:none;\">\n",
              "        \n",
              "  <svg xmlns=\"http://www.w3.org/2000/svg\" height=\"24px\"viewBox=\"0 0 24 24\"\n",
              "       width=\"24px\">\n",
              "    <path d=\"M0 0h24v24H0V0z\" fill=\"none\"/>\n",
              "    <path d=\"M18.56 5.44l.94 2.06.94-2.06 2.06-.94-2.06-.94-.94-2.06-.94 2.06-2.06.94zm-11 1L8.5 8.5l.94-2.06 2.06-.94-2.06-.94L8.5 2.5l-.94 2.06-2.06.94zm10 10l.94 2.06.94-2.06 2.06-.94-2.06-.94-.94-2.06-.94 2.06-2.06.94z\"/><path d=\"M17.41 7.96l-1.37-1.37c-.4-.4-.92-.59-1.43-.59-.52 0-1.04.2-1.43.59L10.3 9.45l-7.72 7.72c-.78.78-.78 2.05 0 2.83L4 21.41c.39.39.9.59 1.41.59.51 0 1.02-.2 1.41-.59l7.78-7.78 2.81-2.81c.8-.78.8-2.07 0-2.86zM5.41 20L4 18.59l7.72-7.72 1.47 1.35L5.41 20z\"/>\n",
              "  </svg>\n",
              "      </button>\n",
              "      \n",
              "  <style>\n",
              "    .colab-df-container {\n",
              "      display:flex;\n",
              "      flex-wrap:wrap;\n",
              "      gap: 12px;\n",
              "    }\n",
              "\n",
              "    .colab-df-convert {\n",
              "      background-color: #E8F0FE;\n",
              "      border: none;\n",
              "      border-radius: 50%;\n",
              "      cursor: pointer;\n",
              "      display: none;\n",
              "      fill: #1967D2;\n",
              "      height: 32px;\n",
              "      padding: 0 0 0 0;\n",
              "      width: 32px;\n",
              "    }\n",
              "\n",
              "    .colab-df-convert:hover {\n",
              "      background-color: #E2EBFA;\n",
              "      box-shadow: 0px 1px 2px rgba(60, 64, 67, 0.3), 0px 1px 3px 1px rgba(60, 64, 67, 0.15);\n",
              "      fill: #174EA6;\n",
              "    }\n",
              "\n",
              "    [theme=dark] .colab-df-convert {\n",
              "      background-color: #3B4455;\n",
              "      fill: #D2E3FC;\n",
              "    }\n",
              "\n",
              "    [theme=dark] .colab-df-convert:hover {\n",
              "      background-color: #434B5C;\n",
              "      box-shadow: 0px 1px 3px 1px rgba(0, 0, 0, 0.15);\n",
              "      filter: drop-shadow(0px 1px 2px rgba(0, 0, 0, 0.3));\n",
              "      fill: #FFFFFF;\n",
              "    }\n",
              "  </style>\n",
              "\n",
              "      <script>\n",
              "        const buttonEl =\n",
              "          document.querySelector('#df-1cac7c52-0323-46be-b1e0-1a38189b6939 button.colab-df-convert');\n",
              "        buttonEl.style.display =\n",
              "          google.colab.kernel.accessAllowed ? 'block' : 'none';\n",
              "\n",
              "        async function convertToInteractive(key) {\n",
              "          const element = document.querySelector('#df-1cac7c52-0323-46be-b1e0-1a38189b6939');\n",
              "          const dataTable =\n",
              "            await google.colab.kernel.invokeFunction('convertToInteractive',\n",
              "                                                     [key], {});\n",
              "          if (!dataTable) return;\n",
              "\n",
              "          const docLinkHtml = 'Like what you see? Visit the ' +\n",
              "            '<a target=\"_blank\" href=https://colab.research.google.com/notebooks/data_table.ipynb>data table notebook</a>'\n",
              "            + ' to learn more about interactive tables.';\n",
              "          element.innerHTML = '';\n",
              "          dataTable['output_type'] = 'display_data';\n",
              "          await google.colab.output.renderOutput(dataTable, element);\n",
              "          const docLink = document.createElement('div');\n",
              "          docLink.innerHTML = docLinkHtml;\n",
              "          element.appendChild(docLink);\n",
              "        }\n",
              "      </script>\n",
              "    </div>\n",
              "  </div>\n",
              "  "
            ]
          },
          "metadata": {},
          "execution_count": 9
        }
      ]
    },
    {
      "cell_type": "code",
      "source": [
        "x_train = df.iloc[:,4:5].values\n",
        "x_train"
      ],
      "metadata": {
        "colab": {
          "base_uri": "https://localhost:8080/"
        },
        "id": "ep-bhyVKkryG",
        "outputId": "a6b7ba54-8ae0-4600-d110-4223ba110cdc"
      },
      "execution_count": 10,
      "outputs": [
        {
          "output_type": "execute_result",
          "data": {
            "text/plain": [
              "array([[ 719.409973],\n",
              "       [ 718.359985],\n",
              "       [ 718.27002 ],\n",
              "       ...,\n",
              "       [2466.090088],\n",
              "       [2482.850098],\n",
              "       [2491.399902]])"
            ]
          },
          "metadata": {},
          "execution_count": 10
        }
      ]
    },
    {
      "cell_type": "code",
      "source": [
        "from sklearn.preprocessing import MinMaxScaler\n",
        "sc = MinMaxScaler(feature_range = (0,1))\n",
        "x_train_scaled = sc.fit_transform(x_train)\n",
        "x_train_scaled"
      ],
      "metadata": {
        "colab": {
          "base_uri": "https://localhost:8080/"
        },
        "id": "ObC8898SZ4dM",
        "outputId": "a1c9b7f2-6b88-44ea-9053-7507e172f287"
      },
      "execution_count": 11,
      "outputs": [
        {
          "output_type": "execute_result",
          "data": {
            "text/plain": [
              "array([[0.02805597],\n",
              "       [0.02748005],\n",
              "       [0.0274307 ],\n",
              "       ...,\n",
              "       [0.98611746],\n",
              "       [0.9953104 ],\n",
              "       [1.        ]])"
            ]
          },
          "metadata": {},
          "execution_count": 11
        }
      ]
    },
    {
      "cell_type": "code",
      "source": [
        "x_train2 = []\n",
        "y_train2 = []\n",
        "for i in range(30,1258):                      #(timestep=30, lenght=1258)\n",
        "  x_train2.append(x_train_scaled[i-30:i,0])\n",
        "  y_train2.append(x_train_scaled[i,0])\n",
        "\n",
        "x_train3, y_train3 = np.array(x_train2), np.array(y_train2)"
      ],
      "metadata": {
        "id": "w5RuVnJGZ4bm"
      },
      "execution_count": 12,
      "outputs": []
    },
    {
      "cell_type": "code",
      "source": [
        "x_train4 = np.reshape(x_train3,(x_train3.shape[0],x_train3.shape[1],1))\n",
        "x_train4.shape"
      ],
      "metadata": {
        "colab": {
          "base_uri": "https://localhost:8080/"
        },
        "id": "ubEIV347nSdL",
        "outputId": "750e377e-cb83-4672-b1ad-be4e996b1cb4"
      },
      "execution_count": 13,
      "outputs": [
        {
          "output_type": "execute_result",
          "data": {
            "text/plain": [
              "(1228, 30, 1)"
            ]
          },
          "metadata": {},
          "execution_count": 13
        }
      ]
    },
    {
      "cell_type": "code",
      "source": [
        "y_train3.shape"
      ],
      "metadata": {
        "colab": {
          "base_uri": "https://localhost:8080/"
        },
        "id": "xvvM0js2pGqa",
        "outputId": "bd12cb0d-6c3a-4a24-b87f-e987908a1e81"
      },
      "execution_count": 14,
      "outputs": [
        {
          "output_type": "execute_result",
          "data": {
            "text/plain": [
              "(1228,)"
            ]
          },
          "metadata": {},
          "execution_count": 14
        }
      ]
    },
    {
      "cell_type": "code",
      "source": [
        "from keras.models import Sequential\n",
        "from keras.layers import Dense\n",
        "from keras.layers import LSTM\n",
        "from keras.layers import Dropout"
      ],
      "metadata": {
        "id": "vbKydH7Hip00"
      },
      "execution_count": 15,
      "outputs": []
    },
    {
      "cell_type": "code",
      "source": [
        "model = Sequential()\n",
        " \n",
        "model.add(LSTM(units = 100, return_sequences = True, input_shape = (x_train4.shape[1], 1)))\n",
        "model.add(Dropout(0.2))\n",
        "\n",
        "model.add(LSTM(units = 100, return_sequences = True))\n",
        "model.add(Dropout(0.2))\n",
        "\n",
        "model.add(LSTM(units = 100, return_sequences = True))\n",
        "model.add(Dropout(0.2))\n",
        "\n",
        "model.add(LSTM(units = 100, return_sequences = False))\n",
        "model.add(Dropout(0.2))\n",
        "\n",
        "model.add(Dense(units = 1))\n",
        "model.compile(optimizer='adam',loss=\"mean_squared_error\")"
      ],
      "metadata": {
        "id": "2k6QBD8JZ4Vr"
      },
      "execution_count": 16,
      "outputs": []
    },
    {
      "cell_type": "code",
      "source": [
        "hist = model.fit(x_train4, y_train3, epochs=20, batch_size=30, verbose=2)"
      ],
      "metadata": {
        "colab": {
          "base_uri": "https://localhost:8080/"
        },
        "id": "lM41YI-NZ4Th",
        "outputId": "8cbeed5a-e727-47f4-ecc6-f4533e81160f"
      },
      "execution_count": 17,
      "outputs": [
        {
          "output_type": "stream",
          "name": "stdout",
          "text": [
            "Epoch 1/20\n",
            "41/41 - 10s - loss: 0.0139 - 10s/epoch - 255ms/step\n",
            "Epoch 2/20\n",
            "41/41 - 0s - loss: 0.0025 - 401ms/epoch - 10ms/step\n",
            "Epoch 3/20\n",
            "41/41 - 0s - loss: 0.0023 - 426ms/epoch - 10ms/step\n",
            "Epoch 4/20\n",
            "41/41 - 0s - loss: 0.0021 - 412ms/epoch - 10ms/step\n",
            "Epoch 5/20\n",
            "41/41 - 0s - loss: 0.0022 - 420ms/epoch - 10ms/step\n",
            "Epoch 6/20\n",
            "41/41 - 0s - loss: 0.0019 - 415ms/epoch - 10ms/step\n",
            "Epoch 7/20\n",
            "41/41 - 0s - loss: 0.0017 - 427ms/epoch - 10ms/step\n",
            "Epoch 8/20\n",
            "41/41 - 0s - loss: 0.0020 - 412ms/epoch - 10ms/step\n",
            "Epoch 9/20\n",
            "41/41 - 0s - loss: 0.0018 - 416ms/epoch - 10ms/step\n",
            "Epoch 10/20\n",
            "41/41 - 0s - loss: 0.0018 - 422ms/epoch - 10ms/step\n",
            "Epoch 11/20\n",
            "41/41 - 0s - loss: 0.0016 - 411ms/epoch - 10ms/step\n",
            "Epoch 12/20\n",
            "41/41 - 0s - loss: 0.0016 - 420ms/epoch - 10ms/step\n",
            "Epoch 13/20\n",
            "41/41 - 0s - loss: 0.0014 - 406ms/epoch - 10ms/step\n",
            "Epoch 14/20\n",
            "41/41 - 0s - loss: 0.0017 - 413ms/epoch - 10ms/step\n",
            "Epoch 15/20\n",
            "41/41 - 0s - loss: 0.0016 - 417ms/epoch - 10ms/step\n",
            "Epoch 16/20\n",
            "41/41 - 0s - loss: 0.0016 - 407ms/epoch - 10ms/step\n",
            "Epoch 17/20\n",
            "41/41 - 0s - loss: 0.0019 - 426ms/epoch - 10ms/step\n",
            "Epoch 18/20\n",
            "41/41 - 0s - loss: 0.0016 - 412ms/epoch - 10ms/step\n",
            "Epoch 19/20\n",
            "41/41 - 0s - loss: 0.0013 - 403ms/epoch - 10ms/step\n",
            "Epoch 20/20\n",
            "41/41 - 0s - loss: 0.0012 - 414ms/epoch - 10ms/step\n"
          ]
        }
      ]
    },
    {
      "cell_type": "code",
      "source": [
        "plt.plot(hist.history['loss'])\n",
        "plt.title('Training model loss')\n",
        "plt.ylabel('loss')\n",
        "plt.xlabel('epoch')\n",
        "plt.legend(['train'])\n",
        "plt.show()"
      ],
      "metadata": {
        "colab": {
          "base_uri": "https://localhost:8080/",
          "height": 295
        },
        "id": "KntSEuPGZ4Q1",
        "outputId": "064cefc3-5f60-4c24-d1f0-ac631eac45e0"
      },
      "execution_count": 18,
      "outputs": [
        {
          "output_type": "display_data",
          "data": {
            "text/plain": [
              "<Figure size 432x288 with 1 Axes>"
            ],
            "image/png": "[encoded data removed]"
          },
          "metadata": {
            "needs_background": "light"
          }
        }
      ]
    },
    {
      "cell_type": "code",
      "source": [
        "test = pd.read_csv(\"GOOG_test.csv\")\n",
        "test.Date= pd.to_datetime(test.Date)\n",
        "test2 =test.set_index('Date')\n",
        "testData = test2.iloc[:,4:5].values\n",
        "testData2 = sc.transform(testData)\n",
        "\n",
        "x_test = []\n",
        "y_test = []\n",
        "for i in range(30,len(testData)):\n",
        "  x_test.append(testData2[i-30:i,0])\n",
        "  y_test.append(testData[i,0])\n",
        "x_test2 = np.array(x_test)\n",
        "x_test3 = np.reshape(x_test2,(x_test2.shape[0],x_test2.shape[1],1))\n",
        "x_test3.shape"
      ],
      "metadata": {
        "colab": {
          "base_uri": "https://localhost:8080/"
        },
        "id": "kFy_Bh2uZ4Nx",
        "outputId": "d883bb9e-be70-488a-eb0b-a0551c4951c3"
      },
      "execution_count": 19,
      "outputs": [
        {
          "output_type": "execute_result",
          "data": {
            "text/plain": [
              "(223, 30, 1)"
            ]
          },
          "metadata": {},
          "execution_count": 19
        }
      ]
    },
    {
      "cell_type": "code",
      "source": [
        "y_pred = model.predict(x_test3)"
      ],
      "metadata": {
        "id": "8O3beEvvkL3h"
      },
      "execution_count": 20,
      "outputs": []
    },
    {
      "cell_type": "code",
      "source": [
        "predicted_price = sc.inverse_transform(y_pred)"
      ],
      "metadata": {
        "id": "XGQ07hWbkL1I"
      },
      "execution_count": 21,
      "outputs": []
    },
    {
      "cell_type": "code",
      "source": [
        "plt.plot(y_test, label='Actual Stock Price')\n",
        "plt.plot(predicted_price, label='Predicted Price')\n",
        "plt.xlabel('Time')\n",
        "plt.ylabel('Stock Price')\n",
        "plt.legend()\n",
        "plt.show()"
      ],
      "metadata": {
        "colab": {
          "base_uri": "https://localhost:8080/",
          "height": 279
        },
        "id": "IAOTSAvnkLyb",
        "outputId": "39dcbf20-301c-4508-b0ee-be3f0bcb2c82"
      },
      "execution_count": 22,
      "outputs": [
        {
          "output_type": "display_data",
          "data": {
            "text/plain": [
              "<Figure size 432x288 with 1 Axes>"
            ],
            "image/png": "[encoded data removed]"
          },
          "metadata": {
            "needs_background": "light"
          }
        }
      ]
    },
    {
      "cell_type": "code",
      "source": [
        "from sklearn.metrics import mean_squared_error\n",
        "np.sqrt(mean_squared_error(y_test,predicted_price))"
      ],
      "metadata": {
        "colab": {
          "base_uri": "https://localhost:8080/"
        },
        "id": "1-mkqbprHvwC",
        "outputId": "3036480c-eb6e-4cc6-c474-10f1e11cd0c7"
      },
      "execution_count": 23,
      "outputs": [
        {
          "output_type": "execute_result",
          "data": {
            "text/plain": [
              "118.600414524254"
            ]
          },
          "metadata": {},
          "execution_count": 23
        }
      ]
    },
    {
      "cell_type": "code",
      "source": [
        "from sklearn.metrics import r2_score\n",
        "r2_score(y_test,predicted_price)"
      ],
      "metadata": {
        "colab": {
          "base_uri": "https://localhost:8080/"
        },
        "id": "HLs4wtUkHwNP",
        "outputId": "38328b08-1280-4bdd-d126-3a27e3a32f2d"
      },
      "execution_count": 24,
      "outputs": [
        {
          "output_type": "execute_result",
          "data": {
            "text/plain": [
              "0.6849511777480826"
            ]
          },
          "metadata": {},
          "execution_count": 24
        }
      ]
    }
  ]
}